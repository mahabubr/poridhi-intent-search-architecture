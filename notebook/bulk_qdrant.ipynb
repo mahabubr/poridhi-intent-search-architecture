{
 "cells": [
  {
   "cell_type": "markdown",
   "metadata": {},
   "source": [
    "### Import Package"
   ]
  },
  {
   "cell_type": "code",
   "execution_count": 46,
   "metadata": {},
   "outputs": [],
   "source": [
    "import pandas as pd"
   ]
  },
  {
   "cell_type": "markdown",
   "metadata": {},
   "source": [
    "### Read Products"
   ]
  },
  {
   "cell_type": "code",
   "execution_count": 47,
   "metadata": {},
   "outputs": [],
   "source": [
    "df = pd.read_csv(\"../dataset/product.csv\")"
   ]
  },
  {
   "cell_type": "code",
   "execution_count": 49,
   "metadata": {},
   "outputs": [
    {
     "data": {
      "text/html": [
       "<div>\n",
       "<style scoped>\n",
       "    .dataframe tbody tr th:only-of-type {\n",
       "        vertical-align: middle;\n",
       "    }\n",
       "\n",
       "    .dataframe tbody tr th {\n",
       "        vertical-align: top;\n",
       "    }\n",
       "\n",
       "    .dataframe thead th {\n",
       "        text-align: right;\n",
       "    }\n",
       "</style>\n",
       "<table border=\"1\" class=\"dataframe\">\n",
       "  <thead>\n",
       "    <tr style=\"text-align: right;\">\n",
       "      <th></th>\n",
       "      <th>uniq_id</th>\n",
       "      <th>crawl_timestamp</th>\n",
       "      <th>product_url</th>\n",
       "      <th>product_name</th>\n",
       "      <th>product_category_tree</th>\n",
       "      <th>pid</th>\n",
       "      <th>retail_price</th>\n",
       "      <th>discounted_price</th>\n",
       "      <th>image</th>\n",
       "      <th>is_FK_Advantage_product</th>\n",
       "      <th>description</th>\n",
       "      <th>product_rating</th>\n",
       "      <th>overall_rating</th>\n",
       "      <th>brand</th>\n",
       "      <th>product_specifications</th>\n",
       "      <th>formatted_specifications</th>\n",
       "      <th>product_category</th>\n",
       "    </tr>\n",
       "  </thead>\n",
       "  <tbody>\n",
       "    <tr>\n",
       "      <th>0</th>\n",
       "      <td>f449ec65dcbc041b6ae5e6a32717d01b</td>\n",
       "      <td>2016-03-25 22:59:23 +0000</td>\n",
       "      <td>http://www.flipkart.com/aw-bellies/p/itmeh4grg...</td>\n",
       "      <td>aw bellies</td>\n",
       "      <td>['footwear', 'womens footwear', 'ballerinas', ...</td>\n",
       "      <td>SHOEH4GRSUBJGZXE</td>\n",
       "      <td>999.0</td>\n",
       "      <td>499.0</td>\n",
       "      <td>[\"http://img5a.flixcart.com/image/shoe/7/z/z/r...</td>\n",
       "      <td>False</td>\n",
       "      <td>key features of aw bellies sandals wedges heel...</td>\n",
       "      <td>0.0</td>\n",
       "      <td>0.0</td>\n",
       "      <td>aw</td>\n",
       "      <td>[{'key': 'Ideal For', 'value': 'Women'}, {'key...</td>\n",
       "      <td>ideal for: women, occasion: casual, color: red...</td>\n",
       "      <td>footwear, womens footwear, ballerinas, aw bellies</td>\n",
       "    </tr>\n",
       "    <tr>\n",
       "      <th>1</th>\n",
       "      <td>bc940ea42ee6bef5ac7cea3fb5cfbee7</td>\n",
       "      <td>2016-03-25 22:59:23 +0000</td>\n",
       "      <td>http://www.flipkart.com/sicons-all-purpose-arn...</td>\n",
       "      <td>sicons all purpose arnica dog shampoo</td>\n",
       "      <td>['pet supplies', 'grooming', 'skin  coat care'...</td>\n",
       "      <td>PSOEH3ZYDMSYARJ5</td>\n",
       "      <td>220.0</td>\n",
       "      <td>210.0</td>\n",
       "      <td>[\"http://img5a.flixcart.com/image/pet-shampoo/...</td>\n",
       "      <td>False</td>\n",
       "      <td>specifications of sicons all purpose arnica do...</td>\n",
       "      <td>0.0</td>\n",
       "      <td>0.0</td>\n",
       "      <td>sicons</td>\n",
       "      <td>[{'key': 'Pet Type', 'value': 'Dog'}, {'key': ...</td>\n",
       "      <td>pet type: dog, brand: sicons, quantity: 500 ml...</td>\n",
       "      <td>pet supplies, grooming, skin  coat care, shamp...</td>\n",
       "    </tr>\n",
       "    <tr>\n",
       "      <th>2</th>\n",
       "      <td>c2a17313954882c1dba461863e98adf2</td>\n",
       "      <td>2016-03-25 22:59:23 +0000</td>\n",
       "      <td>http://www.flipkart.com/eternal-gandhi-super-s...</td>\n",
       "      <td>eternal gandhi super series crystal paper weig...</td>\n",
       "      <td>['eternal gandhi super series crystal paper we...</td>\n",
       "      <td>PWTEB7H2E4KCYUE3</td>\n",
       "      <td>430.0</td>\n",
       "      <td>430.0</td>\n",
       "      <td>[\"http://img5a.flixcart.com/image/paper-weight...</td>\n",
       "      <td>False</td>\n",
       "      <td>key features of eternal gandhi super series cr...</td>\n",
       "      <td>0.0</td>\n",
       "      <td>0.0</td>\n",
       "      <td>eternal gandhi</td>\n",
       "      <td>[{'key': 'Model Name', 'value': 'Gandhi Paper ...</td>\n",
       "      <td>model name: gandhi paper weight mark v, weight...</td>\n",
       "      <td>eternal gandhi super series crystal paper weight</td>\n",
       "    </tr>\n",
       "    <tr>\n",
       "      <th>3</th>\n",
       "      <td>29c8d290caa451f97b1c32df64477a2c</td>\n",
       "      <td>2016-03-25 22:59:23 +0000</td>\n",
       "      <td>http://www.flipkart.com/dilli-bazaaar-bellies-...</td>\n",
       "      <td>dilli bazaaar bellies, corporate casuals, casuals</td>\n",
       "      <td>['footwear', 'womens footwear', 'ballerinas', ...</td>\n",
       "      <td>SHOEH3DZBFR88SCK</td>\n",
       "      <td>699.0</td>\n",
       "      <td>349.0</td>\n",
       "      <td>[\"http://img6a.flixcart.com/image/shoe/b/p/n/p...</td>\n",
       "      <td>False</td>\n",
       "      <td>key features of dilli bazaaar bellies, corpora...</td>\n",
       "      <td>0.0</td>\n",
       "      <td>0.0</td>\n",
       "      <td>dilli bazaaar</td>\n",
       "      <td>[{'key': 'Occasion', 'value': 'Ethnic, Casual,...</td>\n",
       "      <td>occasion: ethnic, casual, party, formal, ideal...</td>\n",
       "      <td>footwear, womens footwear, ballerinas, dilli b...</td>\n",
       "    </tr>\n",
       "    <tr>\n",
       "      <th>4</th>\n",
       "      <td>e54bc0a7c3429da2ebef0b30331fe3d2</td>\n",
       "      <td>2016-03-25 22:59:23 +0000</td>\n",
       "      <td>http://www.flipkart.com/ladela-bellies/p/itmeh...</td>\n",
       "      <td>ladela bellies</td>\n",
       "      <td>['footwear', 'womens footwear', 'ballerinas', ...</td>\n",
       "      <td>SHOEH4KM2W3Z6EH5</td>\n",
       "      <td>1724.0</td>\n",
       "      <td>950.0</td>\n",
       "      <td>[\"http://img5a.flixcart.com/image/shoe/s/g/m/b...</td>\n",
       "      <td>False</td>\n",
       "      <td>key features of ladela bellies brand: ladela c...</td>\n",
       "      <td>5.0</td>\n",
       "      <td>5.0</td>\n",
       "      <td>ladela</td>\n",
       "      <td>[{'key': 'Occasion', 'value': 'Casual'}, {'key...</td>\n",
       "      <td>occasion: casual, ideal for: women, heel heigh...</td>\n",
       "      <td>footwear, womens footwear, ballerinas, ladela ...</td>\n",
       "    </tr>\n",
       "  </tbody>\n",
       "</table>\n",
       "</div>"
      ],
      "text/plain": [
       "                            uniq_id            crawl_timestamp  \\\n",
       "0  f449ec65dcbc041b6ae5e6a32717d01b  2016-03-25 22:59:23 +0000   \n",
       "1  bc940ea42ee6bef5ac7cea3fb5cfbee7  2016-03-25 22:59:23 +0000   \n",
       "2  c2a17313954882c1dba461863e98adf2  2016-03-25 22:59:23 +0000   \n",
       "3  29c8d290caa451f97b1c32df64477a2c  2016-03-25 22:59:23 +0000   \n",
       "4  e54bc0a7c3429da2ebef0b30331fe3d2  2016-03-25 22:59:23 +0000   \n",
       "\n",
       "                                         product_url  \\\n",
       "0  http://www.flipkart.com/aw-bellies/p/itmeh4grg...   \n",
       "1  http://www.flipkart.com/sicons-all-purpose-arn...   \n",
       "2  http://www.flipkart.com/eternal-gandhi-super-s...   \n",
       "3  http://www.flipkart.com/dilli-bazaaar-bellies-...   \n",
       "4  http://www.flipkart.com/ladela-bellies/p/itmeh...   \n",
       "\n",
       "                                        product_name  \\\n",
       "0                                         aw bellies   \n",
       "1              sicons all purpose arnica dog shampoo   \n",
       "2  eternal gandhi super series crystal paper weig...   \n",
       "3  dilli bazaaar bellies, corporate casuals, casuals   \n",
       "4                                     ladela bellies   \n",
       "\n",
       "                               product_category_tree               pid  \\\n",
       "0  ['footwear', 'womens footwear', 'ballerinas', ...  SHOEH4GRSUBJGZXE   \n",
       "1  ['pet supplies', 'grooming', 'skin  coat care'...  PSOEH3ZYDMSYARJ5   \n",
       "2  ['eternal gandhi super series crystal paper we...  PWTEB7H2E4KCYUE3   \n",
       "3  ['footwear', 'womens footwear', 'ballerinas', ...  SHOEH3DZBFR88SCK   \n",
       "4  ['footwear', 'womens footwear', 'ballerinas', ...  SHOEH4KM2W3Z6EH5   \n",
       "\n",
       "   retail_price  discounted_price  \\\n",
       "0         999.0             499.0   \n",
       "1         220.0             210.0   \n",
       "2         430.0             430.0   \n",
       "3         699.0             349.0   \n",
       "4        1724.0             950.0   \n",
       "\n",
       "                                               image  is_FK_Advantage_product  \\\n",
       "0  [\"http://img5a.flixcart.com/image/shoe/7/z/z/r...                    False   \n",
       "1  [\"http://img5a.flixcart.com/image/pet-shampoo/...                    False   \n",
       "2  [\"http://img5a.flixcart.com/image/paper-weight...                    False   \n",
       "3  [\"http://img6a.flixcart.com/image/shoe/b/p/n/p...                    False   \n",
       "4  [\"http://img5a.flixcart.com/image/shoe/s/g/m/b...                    False   \n",
       "\n",
       "                                         description  product_rating  \\\n",
       "0  key features of aw bellies sandals wedges heel...             0.0   \n",
       "1  specifications of sicons all purpose arnica do...             0.0   \n",
       "2  key features of eternal gandhi super series cr...             0.0   \n",
       "3  key features of dilli bazaaar bellies, corpora...             0.0   \n",
       "4  key features of ladela bellies brand: ladela c...             5.0   \n",
       "\n",
       "   overall_rating           brand  \\\n",
       "0             0.0              aw   \n",
       "1             0.0          sicons   \n",
       "2             0.0  eternal gandhi   \n",
       "3             0.0   dilli bazaaar   \n",
       "4             5.0          ladela   \n",
       "\n",
       "                              product_specifications  \\\n",
       "0  [{'key': 'Ideal For', 'value': 'Women'}, {'key...   \n",
       "1  [{'key': 'Pet Type', 'value': 'Dog'}, {'key': ...   \n",
       "2  [{'key': 'Model Name', 'value': 'Gandhi Paper ...   \n",
       "3  [{'key': 'Occasion', 'value': 'Ethnic, Casual,...   \n",
       "4  [{'key': 'Occasion', 'value': 'Casual'}, {'key...   \n",
       "\n",
       "                            formatted_specifications  \\\n",
       "0  ideal for: women, occasion: casual, color: red...   \n",
       "1  pet type: dog, brand: sicons, quantity: 500 ml...   \n",
       "2  model name: gandhi paper weight mark v, weight...   \n",
       "3  occasion: ethnic, casual, party, formal, ideal...   \n",
       "4  occasion: casual, ideal for: women, heel heigh...   \n",
       "\n",
       "                                    product_category  \n",
       "0  footwear, womens footwear, ballerinas, aw bellies  \n",
       "1  pet supplies, grooming, skin  coat care, shamp...  \n",
       "2   eternal gandhi super series crystal paper weight  \n",
       "3  footwear, womens footwear, ballerinas, dilli b...  \n",
       "4  footwear, womens footwear, ballerinas, ladela ...  "
      ]
     },
     "execution_count": 49,
     "metadata": {},
     "output_type": "execute_result"
    }
   ],
   "source": [
    "df.head()"
   ]
  },
  {
   "cell_type": "code",
   "execution_count": 50,
   "metadata": {},
   "outputs": [
    {
     "data": {
      "text/plain": [
       "12676"
      ]
     },
     "execution_count": 50,
     "metadata": {},
     "output_type": "execute_result"
    }
   ],
   "source": [
    "len(df)"
   ]
  },
  {
   "cell_type": "markdown",
   "metadata": {},
   "source": [
    "### Fill Na"
   ]
  },
  {
   "cell_type": "code",
   "execution_count": 51,
   "metadata": {},
   "outputs": [],
   "source": [
    "df[\"product_name\"] = df[\"product_name\"].fillna(\"-\")\n",
    "df[\"description\"] = df[\"description\"].fillna(\"-\")\n",
    "df[\"brand\"] = df[\"brand\"].fillna(\"-\")\n",
    "df[\"formatted_specifications\"] = df[\"formatted_specifications\"].fillna(\"-\")\n",
    "df[\"image\"] = df[\"image\"].fillna(\"-\")"
   ]
  },
  {
   "cell_type": "markdown",
   "metadata": {},
   "source": [
    "### Read Text For Embedding"
   ]
  },
  {
   "cell_type": "code",
   "execution_count": 52,
   "metadata": {},
   "outputs": [
    {
     "data": {
      "text/plain": [
       "uniq_id                     0\n",
       "crawl_timestamp             0\n",
       "product_url                 0\n",
       "product_name                0\n",
       "product_category_tree       0\n",
       "pid                         0\n",
       "retail_price                0\n",
       "discounted_price            0\n",
       "image                       0\n",
       "is_FK_Advantage_product     0\n",
       "description                 0\n",
       "product_rating              0\n",
       "overall_rating              0\n",
       "brand                       0\n",
       "product_specifications      0\n",
       "formatted_specifications    0\n",
       "product_category            0\n",
       "dtype: int64"
      ]
     },
     "execution_count": 52,
     "metadata": {},
     "output_type": "execute_result"
    }
   ],
   "source": [
    "df.isna().sum()"
   ]
  },
  {
   "cell_type": "code",
   "execution_count": 57,
   "metadata": {},
   "outputs": [],
   "source": [
    "embed_texts = (\n",
    "    df[\"product_name\"] + \" - \" +\n",
    "    df[\"description\"] + \" - \" +\n",
    "    df[\"product_category\"] + \" - \" +\n",
    "    df[\"formatted_specifications\"]).tolist()"
   ]
  },
  {
   "cell_type": "code",
   "execution_count": 58,
   "metadata": {},
   "outputs": [
    {
     "data": {
      "text/plain": [
       "['aw bellies - key features of aw bellies sandals wedges heel casuals,aw bellies price: rs. 499 material: synthetic lifestyle: casual heel type: wedge warranty type: manufacturer product warranty against manufacturing defects: 30 days care instructions: allow your pair of shoes to air and de-odorize at regular basis; use shoe bags to prevent any stains or mildew; dust any dry dirt from the surface using a clean cloth; do not use polish or shiner,specifications of aw bellies general ideal for women occasion casual shoe details color red outer material patent leather heel height 1 inch number of contents in sales package pack of 1 in the box one pair of shoes - footwear, womens footwear, ballerinas, aw bellies - ideal for: women, occasion: casual, color: red, outer material: patent leather, heel height: 1 inch, number of contents in sales package: pack of 1',\n",
       " 'sicons all purpose arnica dog shampoo - specifications of sicons all purpose arnica dog shampoo (500 ml) general pet type dog brand sicons quantity 500 ml model number sh.df-14 type all purpose fragrance arnica form factor liquid in the box sales package shampoo sicons dog fashion arnica - pet supplies, grooming, skin  coat care, shampoo, sicons all purpose arnica dog shampoo 500 ml - pet type: dog, brand: sicons, quantity: 500 ml, model number: sh.df-14, type: all purpose, fragrance: arnica, form factor: liquid, sales package: shampoo sicons dog fashion arnica',\n",
       " 'eternal gandhi super series crystal paper weights  with silver finish - key features of eternal gandhi super series crystal paper weights  with silver finish crystal  paper weight product dimensions :   8cm x  8cm x 5cm a beautiful product material: crystal,eternal gandhi super series crystal paper weights  with silver finish (set of 1, clear) price: rs. 430 your office desk will sparkle and shine when you accent tables with this elegant crystal paper weight. the multifaceted crystal features gandhiji’s bust and his timeless message – “my life is my message – m.k. gandhi”. a beautiful product to gift to your near and dear ones in family and business.,specifications of eternal gandhi super series crystal paper weights  with silver finish (set of 1, clear) general model name gandhi paper weight mark v dimensions weight 323 g in the box paper weight paper weight features paper weight material crystal paper weight finish silver finish - eternal gandhi super series crystal paper weight - model name: gandhi paper weight mark v, weight: 323 g, paper weight material: crystal, paper weight finish: silver finish',\n",
       " 'dilli bazaaar bellies, corporate casuals, casuals - key features of dilli bazaaar bellies, corporate casuals, casuals material: fabric occasion: ethnic, casual, party, formal color: pink heel height: 0,specifications of dilli bazaaar bellies, corporate casuals, casuals general occasion ethnic, casual, party, formal ideal for women shoe details weight 200 g (per single shoe) - weight of the product may vary depending on size. heel height 0 inch outer material fabric color pink - footwear, womens footwear, ballerinas, dilli bazaaar bellies corporate casuals casuals - occasion: ethnic, casual, party, formal, ideal for: women, weight: 200 g (per single shoe) - weight of the product may vary depending on size., heel height: 0 inch, outer material: fabric, color: pink',\n",
       " 'ladela bellies - key features of ladela bellies brand: ladela color : black,ladela bellies price: rs. 950 experience the best bellies from the house of ladela. providing the best material to keep your feet cozy and active for the whole day.,specifications of ladela bellies general occasion casual ideal for women shoe details heel height 0 inch outer material pu color black - footwear, womens footwear, ballerinas, ladela bellies - occasion: casual, ideal for: women, heel height: 0 inch, outer material: pu, color: black']"
      ]
     },
     "execution_count": 58,
     "metadata": {},
     "output_type": "execute_result"
    }
   ],
   "source": [
    "embed_texts[:5]"
   ]
  },
  {
   "cell_type": "code",
   "execution_count": 59,
   "metadata": {},
   "outputs": [
    {
     "data": {
      "text/plain": [
       "12676"
      ]
     },
     "execution_count": 59,
     "metadata": {},
     "output_type": "execute_result"
    }
   ],
   "source": [
    "len(embed_texts)"
   ]
  },
  {
   "cell_type": "code",
   "execution_count": null,
   "metadata": {},
   "outputs": [],
   "source": []
  }
 ],
 "metadata": {
  "kernelspec": {
   "display_name": "venv",
   "language": "python",
   "name": "python3"
  },
  "language_info": {
   "codemirror_mode": {
    "name": "ipython",
    "version": 3
   },
   "file_extension": ".py",
   "mimetype": "text/x-python",
   "name": "python",
   "nbconvert_exporter": "python",
   "pygments_lexer": "ipython3",
   "version": "3.13.2"
  }
 },
 "nbformat": 4,
 "nbformat_minor": 2
}
