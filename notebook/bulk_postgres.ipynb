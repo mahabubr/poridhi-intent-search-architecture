{
 "cells": [
  {
   "cell_type": "markdown",
   "metadata": {},
   "source": [
    "### Import Package"
   ]
  },
  {
   "cell_type": "code",
   "execution_count": 3,
   "metadata": {},
   "outputs": [
    {
     "name": "stdout",
     "output_type": "stream",
     "text": [
      "True\n"
     ]
    }
   ],
   "source": [
    "import os\n",
    "print(os.path.exists(\"..\"))"
   ]
  },
  {
   "cell_type": "code",
   "execution_count": 4,
   "metadata": {},
   "outputs": [],
   "source": [
    "import sys\n",
    "\n",
    "sys.path.append(\"..\")"
   ]
  },
  {
   "cell_type": "code",
   "execution_count": 5,
   "metadata": {},
   "outputs": [
    {
     "ename": "ModuleNotFoundError",
     "evalue": "No module named 'sqlmodel'",
     "output_type": "error",
     "traceback": [
      "\u001b[0;31m---------------------------------------------------------------------------\u001b[0m",
      "\u001b[0;31mModuleNotFoundError\u001b[0m                       Traceback (most recent call last)",
      "Cell \u001b[0;32mIn[5], line 1\u001b[0m\n\u001b[0;32m----> 1\u001b[0m \u001b[38;5;28;01mfrom\u001b[39;00m\u001b[38;5;250m \u001b[39m\u001b[38;5;21;01mapp\u001b[39;00m\u001b[38;5;21;01m.\u001b[39;00m\u001b[38;5;21;01mmodel\u001b[39;00m\u001b[38;5;21;01m.\u001b[39;00m\u001b[38;5;21;01mproducts_model\u001b[39;00m\u001b[38;5;250m \u001b[39m\u001b[38;5;28;01mimport\u001b[39;00m Product\n\u001b[1;32m      2\u001b[0m \u001b[38;5;28;01mfrom\u001b[39;00m\u001b[38;5;250m \u001b[39m\u001b[38;5;21;01mapp\u001b[39;00m\u001b[38;5;21;01m.\u001b[39;00m\u001b[38;5;21;01mdatabase\u001b[39;00m\u001b[38;5;21;01m.\u001b[39;00m\u001b[38;5;21;01msession\u001b[39;00m\u001b[38;5;250m \u001b[39m\u001b[38;5;28;01mimport\u001b[39;00m get_session, create_db\n",
      "File \u001b[0;32m/run/media/mahabubr/253e3bec-13c8-40a5-aefe-840692731443/product-intent-search-architecture/notebook/../app/model/products_model.py:1\u001b[0m\n\u001b[0;32m----> 1\u001b[0m \u001b[38;5;28;01mfrom\u001b[39;00m\u001b[38;5;250m \u001b[39m\u001b[38;5;21;01msqlmodel\u001b[39;00m\u001b[38;5;250m \u001b[39m\u001b[38;5;28;01mimport\u001b[39;00m SQLModel, Field\n\u001b[1;32m      2\u001b[0m \u001b[38;5;28;01mfrom\u001b[39;00m\u001b[38;5;250m \u001b[39m\u001b[38;5;21;01mtyping\u001b[39;00m\u001b[38;5;250m \u001b[39m\u001b[38;5;28;01mimport\u001b[39;00m Optional\n\u001b[1;32m      5\u001b[0m \u001b[38;5;28;01mclass\u001b[39;00m\u001b[38;5;250m \u001b[39m\u001b[38;5;21;01mProduct\u001b[39;00m(SQLModel, table\u001b[38;5;241m=\u001b[39m\u001b[38;5;28;01mTrue\u001b[39;00m):\n",
      "\u001b[0;31mModuleNotFoundError\u001b[0m: No module named 'sqlmodel'"
     ]
    }
   ],
   "source": [
    "from app.model.products_model import Product\n",
    "from app.database.session import get_session, create_db"
   ]
  },
  {
   "cell_type": "code",
   "execution_count": null,
   "metadata": {},
   "outputs": [
    {
     "data": {
      "text/plain": [
       "True"
      ]
     },
     "execution_count": 4,
     "metadata": {},
     "output_type": "execute_result"
    }
   ],
   "source": [
    "from dotenv import load_dotenv\n",
    "\n",
    "load_dotenv()"
   ]
  },
  {
   "cell_type": "code",
   "execution_count": null,
   "metadata": {},
   "outputs": [],
   "source": [
    "import pandas as pd\n",
    "import ast\n",
    "from typing import Optional"
   ]
  },
  {
   "cell_type": "code",
   "execution_count": null,
   "metadata": {},
   "outputs": [],
   "source": [
    "df = pd.read_csv(\"../dataset/product.csv\")"
   ]
  },
  {
   "cell_type": "code",
   "execution_count": null,
   "metadata": {},
   "outputs": [
    {
     "data": {
      "text/html": [
       "<div>\n",
       "<style scoped>\n",
       "    .dataframe tbody tr th:only-of-type {\n",
       "        vertical-align: middle;\n",
       "    }\n",
       "\n",
       "    .dataframe tbody tr th {\n",
       "        vertical-align: top;\n",
       "    }\n",
       "\n",
       "    .dataframe thead th {\n",
       "        text-align: right;\n",
       "    }\n",
       "</style>\n",
       "<table border=\"1\" class=\"dataframe\">\n",
       "  <thead>\n",
       "    <tr style=\"text-align: right;\">\n",
       "      <th></th>\n",
       "      <th>uniq_id</th>\n",
       "      <th>crawl_timestamp</th>\n",
       "      <th>product_url</th>\n",
       "      <th>product_name</th>\n",
       "      <th>product_category_tree</th>\n",
       "      <th>pid</th>\n",
       "      <th>retail_price</th>\n",
       "      <th>discounted_price</th>\n",
       "      <th>image</th>\n",
       "      <th>is_FK_Advantage_product</th>\n",
       "      <th>description</th>\n",
       "      <th>product_rating</th>\n",
       "      <th>overall_rating</th>\n",
       "      <th>brand</th>\n",
       "      <th>product_specifications</th>\n",
       "      <th>formatted_specifications</th>\n",
       "      <th>product_category</th>\n",
       "    </tr>\n",
       "  </thead>\n",
       "  <tbody>\n",
       "    <tr>\n",
       "      <th>0</th>\n",
       "      <td>f449ec65dcbc041b6ae5e6a32717d01b</td>\n",
       "      <td>2016-03-25 22:59:23 +0000</td>\n",
       "      <td>http://www.flipkart.com/aw-bellies/p/itmeh4grg...</td>\n",
       "      <td>aw bellies</td>\n",
       "      <td>['footwear', 'womens footwear', 'ballerinas', ...</td>\n",
       "      <td>SHOEH4GRSUBJGZXE</td>\n",
       "      <td>999.0</td>\n",
       "      <td>499.0</td>\n",
       "      <td>[\"http://img5a.flixcart.com/image/shoe/7/z/z/r...</td>\n",
       "      <td>False</td>\n",
       "      <td>key features of aw bellies sandals wedges heel...</td>\n",
       "      <td>0.0</td>\n",
       "      <td>0.0</td>\n",
       "      <td>aw</td>\n",
       "      <td>[{'key': 'Ideal For', 'value': 'Women'}, {'key...</td>\n",
       "      <td>ideal for: women, occasion: casual, color: red...</td>\n",
       "      <td>footwear, womens footwear, ballerinas, aw bellies</td>\n",
       "    </tr>\n",
       "    <tr>\n",
       "      <th>1</th>\n",
       "      <td>bc940ea42ee6bef5ac7cea3fb5cfbee7</td>\n",
       "      <td>2016-03-25 22:59:23 +0000</td>\n",
       "      <td>http://www.flipkart.com/sicons-all-purpose-arn...</td>\n",
       "      <td>sicons all purpose arnica dog shampoo</td>\n",
       "      <td>['pet supplies', 'grooming', 'skin  coat care'...</td>\n",
       "      <td>PSOEH3ZYDMSYARJ5</td>\n",
       "      <td>220.0</td>\n",
       "      <td>210.0</td>\n",
       "      <td>[\"http://img5a.flixcart.com/image/pet-shampoo/...</td>\n",
       "      <td>False</td>\n",
       "      <td>specifications of sicons all purpose arnica do...</td>\n",
       "      <td>0.0</td>\n",
       "      <td>0.0</td>\n",
       "      <td>sicons</td>\n",
       "      <td>[{'key': 'Pet Type', 'value': 'Dog'}, {'key': ...</td>\n",
       "      <td>pet type: dog, brand: sicons, quantity: 500 ml...</td>\n",
       "      <td>pet supplies, grooming, skin  coat care, shamp...</td>\n",
       "    </tr>\n",
       "    <tr>\n",
       "      <th>2</th>\n",
       "      <td>c2a17313954882c1dba461863e98adf2</td>\n",
       "      <td>2016-03-25 22:59:23 +0000</td>\n",
       "      <td>http://www.flipkart.com/eternal-gandhi-super-s...</td>\n",
       "      <td>eternal gandhi super series crystal paper weig...</td>\n",
       "      <td>['eternal gandhi super series crystal paper we...</td>\n",
       "      <td>PWTEB7H2E4KCYUE3</td>\n",
       "      <td>430.0</td>\n",
       "      <td>430.0</td>\n",
       "      <td>[\"http://img5a.flixcart.com/image/paper-weight...</td>\n",
       "      <td>False</td>\n",
       "      <td>key features of eternal gandhi super series cr...</td>\n",
       "      <td>0.0</td>\n",
       "      <td>0.0</td>\n",
       "      <td>eternal gandhi</td>\n",
       "      <td>[{'key': 'Model Name', 'value': 'Gandhi Paper ...</td>\n",
       "      <td>model name: gandhi paper weight mark v, weight...</td>\n",
       "      <td>eternal gandhi super series crystal paper weight</td>\n",
       "    </tr>\n",
       "    <tr>\n",
       "      <th>3</th>\n",
       "      <td>29c8d290caa451f97b1c32df64477a2c</td>\n",
       "      <td>2016-03-25 22:59:23 +0000</td>\n",
       "      <td>http://www.flipkart.com/dilli-bazaaar-bellies-...</td>\n",
       "      <td>dilli bazaaar bellies, corporate casuals, casuals</td>\n",
       "      <td>['footwear', 'womens footwear', 'ballerinas', ...</td>\n",
       "      <td>SHOEH3DZBFR88SCK</td>\n",
       "      <td>699.0</td>\n",
       "      <td>349.0</td>\n",
       "      <td>[\"http://img6a.flixcart.com/image/shoe/b/p/n/p...</td>\n",
       "      <td>False</td>\n",
       "      <td>key features of dilli bazaaar bellies, corpora...</td>\n",
       "      <td>0.0</td>\n",
       "      <td>0.0</td>\n",
       "      <td>dilli bazaaar</td>\n",
       "      <td>[{'key': 'Occasion', 'value': 'Ethnic, Casual,...</td>\n",
       "      <td>occasion: ethnic, casual, party, formal, ideal...</td>\n",
       "      <td>footwear, womens footwear, ballerinas, dilli b...</td>\n",
       "    </tr>\n",
       "    <tr>\n",
       "      <th>4</th>\n",
       "      <td>e54bc0a7c3429da2ebef0b30331fe3d2</td>\n",
       "      <td>2016-03-25 22:59:23 +0000</td>\n",
       "      <td>http://www.flipkart.com/ladela-bellies/p/itmeh...</td>\n",
       "      <td>ladela bellies</td>\n",
       "      <td>['footwear', 'womens footwear', 'ballerinas', ...</td>\n",
       "      <td>SHOEH4KM2W3Z6EH5</td>\n",
       "      <td>1724.0</td>\n",
       "      <td>950.0</td>\n",
       "      <td>[\"http://img5a.flixcart.com/image/shoe/s/g/m/b...</td>\n",
       "      <td>False</td>\n",
       "      <td>key features of ladela bellies brand: ladela c...</td>\n",
       "      <td>5.0</td>\n",
       "      <td>5.0</td>\n",
       "      <td>ladela</td>\n",
       "      <td>[{'key': 'Occasion', 'value': 'Casual'}, {'key...</td>\n",
       "      <td>occasion: casual, ideal for: women, heel heigh...</td>\n",
       "      <td>footwear, womens footwear, ballerinas, ladela ...</td>\n",
       "    </tr>\n",
       "  </tbody>\n",
       "</table>\n",
       "</div>"
      ],
      "text/plain": [
       "                            uniq_id            crawl_timestamp  \\\n",
       "0  f449ec65dcbc041b6ae5e6a32717d01b  2016-03-25 22:59:23 +0000   \n",
       "1  bc940ea42ee6bef5ac7cea3fb5cfbee7  2016-03-25 22:59:23 +0000   \n",
       "2  c2a17313954882c1dba461863e98adf2  2016-03-25 22:59:23 +0000   \n",
       "3  29c8d290caa451f97b1c32df64477a2c  2016-03-25 22:59:23 +0000   \n",
       "4  e54bc0a7c3429da2ebef0b30331fe3d2  2016-03-25 22:59:23 +0000   \n",
       "\n",
       "                                         product_url  \\\n",
       "0  http://www.flipkart.com/aw-bellies/p/itmeh4grg...   \n",
       "1  http://www.flipkart.com/sicons-all-purpose-arn...   \n",
       "2  http://www.flipkart.com/eternal-gandhi-super-s...   \n",
       "3  http://www.flipkart.com/dilli-bazaaar-bellies-...   \n",
       "4  http://www.flipkart.com/ladela-bellies/p/itmeh...   \n",
       "\n",
       "                                        product_name  \\\n",
       "0                                         aw bellies   \n",
       "1              sicons all purpose arnica dog shampoo   \n",
       "2  eternal gandhi super series crystal paper weig...   \n",
       "3  dilli bazaaar bellies, corporate casuals, casuals   \n",
       "4                                     ladela bellies   \n",
       "\n",
       "                               product_category_tree               pid  \\\n",
       "0  ['footwear', 'womens footwear', 'ballerinas', ...  SHOEH4GRSUBJGZXE   \n",
       "1  ['pet supplies', 'grooming', 'skin  coat care'...  PSOEH3ZYDMSYARJ5   \n",
       "2  ['eternal gandhi super series crystal paper we...  PWTEB7H2E4KCYUE3   \n",
       "3  ['footwear', 'womens footwear', 'ballerinas', ...  SHOEH3DZBFR88SCK   \n",
       "4  ['footwear', 'womens footwear', 'ballerinas', ...  SHOEH4KM2W3Z6EH5   \n",
       "\n",
       "   retail_price  discounted_price  \\\n",
       "0         999.0             499.0   \n",
       "1         220.0             210.0   \n",
       "2         430.0             430.0   \n",
       "3         699.0             349.0   \n",
       "4        1724.0             950.0   \n",
       "\n",
       "                                               image  is_FK_Advantage_product  \\\n",
       "0  [\"http://img5a.flixcart.com/image/shoe/7/z/z/r...                    False   \n",
       "1  [\"http://img5a.flixcart.com/image/pet-shampoo/...                    False   \n",
       "2  [\"http://img5a.flixcart.com/image/paper-weight...                    False   \n",
       "3  [\"http://img6a.flixcart.com/image/shoe/b/p/n/p...                    False   \n",
       "4  [\"http://img5a.flixcart.com/image/shoe/s/g/m/b...                    False   \n",
       "\n",
       "                                         description  product_rating  \\\n",
       "0  key features of aw bellies sandals wedges heel...             0.0   \n",
       "1  specifications of sicons all purpose arnica do...             0.0   \n",
       "2  key features of eternal gandhi super series cr...             0.0   \n",
       "3  key features of dilli bazaaar bellies, corpora...             0.0   \n",
       "4  key features of ladela bellies brand: ladela c...             5.0   \n",
       "\n",
       "   overall_rating           brand  \\\n",
       "0             0.0              aw   \n",
       "1             0.0          sicons   \n",
       "2             0.0  eternal gandhi   \n",
       "3             0.0   dilli bazaaar   \n",
       "4             5.0          ladela   \n",
       "\n",
       "                              product_specifications  \\\n",
       "0  [{'key': 'Ideal For', 'value': 'Women'}, {'key...   \n",
       "1  [{'key': 'Pet Type', 'value': 'Dog'}, {'key': ...   \n",
       "2  [{'key': 'Model Name', 'value': 'Gandhi Paper ...   \n",
       "3  [{'key': 'Occasion', 'value': 'Ethnic, Casual,...   \n",
       "4  [{'key': 'Occasion', 'value': 'Casual'}, {'key...   \n",
       "\n",
       "                            formatted_specifications  \\\n",
       "0  ideal for: women, occasion: casual, color: red...   \n",
       "1  pet type: dog, brand: sicons, quantity: 500 ml...   \n",
       "2  model name: gandhi paper weight mark v, weight...   \n",
       "3  occasion: ethnic, casual, party, formal, ideal...   \n",
       "4  occasion: casual, ideal for: women, heel heigh...   \n",
       "\n",
       "                                    product_category  \n",
       "0  footwear, womens footwear, ballerinas, aw bellies  \n",
       "1  pet supplies, grooming, skin  coat care, shamp...  \n",
       "2   eternal gandhi super series crystal paper weight  \n",
       "3  footwear, womens footwear, ballerinas, dilli b...  \n",
       "4  footwear, womens footwear, ballerinas, ladela ...  "
      ]
     },
     "execution_count": 7,
     "metadata": {},
     "output_type": "execute_result"
    }
   ],
   "source": [
    "df.head()"
   ]
  },
  {
   "cell_type": "code",
   "execution_count": null,
   "metadata": {},
   "outputs": [
    {
     "data": {
      "text/plain": [
       "12676"
      ]
     },
     "execution_count": 8,
     "metadata": {},
     "output_type": "execute_result"
    }
   ],
   "source": [
    "len(df)"
   ]
  },
  {
   "cell_type": "markdown",
   "metadata": {},
   "source": [
    "### Fill NA"
   ]
  },
  {
   "cell_type": "code",
   "execution_count": null,
   "metadata": {},
   "outputs": [],
   "source": [
    "df[\"product_name\"] = df[\"product_name\"].fillna(\"-\")\n",
    "df[\"description\"] = df[\"description\"].fillna(\"-\")\n",
    "df[\"brand\"] = df[\"brand\"].fillna(\"-\")\n",
    "df[\"formatted_specifications\"] = df[\"formatted_specifications\"].fillna(\"-\")\n",
    "df[\"image\"] = df[\"image\"].fillna(\"-\")"
   ]
  },
  {
   "cell_type": "code",
   "execution_count": null,
   "metadata": {},
   "outputs": [
    {
     "data": {
      "text/plain": [
       "uniq_id                     0\n",
       "crawl_timestamp             0\n",
       "product_url                 0\n",
       "product_name                0\n",
       "product_category_tree       0\n",
       "pid                         0\n",
       "retail_price                0\n",
       "discounted_price            0\n",
       "image                       0\n",
       "is_FK_Advantage_product     0\n",
       "description                 0\n",
       "product_rating              0\n",
       "overall_rating              0\n",
       "brand                       0\n",
       "product_specifications      0\n",
       "formatted_specifications    0\n",
       "product_category            0\n",
       "dtype: int64"
      ]
     },
     "execution_count": 10,
     "metadata": {},
     "output_type": "execute_result"
    }
   ],
   "source": [
    "df.isna().sum()"
   ]
  },
  {
   "cell_type": "markdown",
   "metadata": {},
   "source": [
    "### Prepare Data For Postgres"
   ]
  },
  {
   "cell_type": "code",
   "execution_count": null,
   "metadata": {},
   "outputs": [
    {
     "data": {
      "text/html": [
       "<div>\n",
       "<style scoped>\n",
       "    .dataframe tbody tr th:only-of-type {\n",
       "        vertical-align: middle;\n",
       "    }\n",
       "\n",
       "    .dataframe tbody tr th {\n",
       "        vertical-align: top;\n",
       "    }\n",
       "\n",
       "    .dataframe thead th {\n",
       "        text-align: right;\n",
       "    }\n",
       "</style>\n",
       "<table border=\"1\" class=\"dataframe\">\n",
       "  <thead>\n",
       "    <tr style=\"text-align: right;\">\n",
       "      <th></th>\n",
       "      <th>uniq_id</th>\n",
       "      <th>crawl_timestamp</th>\n",
       "      <th>product_url</th>\n",
       "      <th>product_name</th>\n",
       "      <th>product_category_tree</th>\n",
       "      <th>pid</th>\n",
       "      <th>retail_price</th>\n",
       "      <th>discounted_price</th>\n",
       "      <th>image</th>\n",
       "      <th>is_FK_Advantage_product</th>\n",
       "      <th>description</th>\n",
       "      <th>product_rating</th>\n",
       "      <th>overall_rating</th>\n",
       "      <th>brand</th>\n",
       "      <th>product_specifications</th>\n",
       "      <th>formatted_specifications</th>\n",
       "      <th>product_category</th>\n",
       "    </tr>\n",
       "  </thead>\n",
       "  <tbody>\n",
       "    <tr>\n",
       "      <th>0</th>\n",
       "      <td>f449ec65dcbc041b6ae5e6a32717d01b</td>\n",
       "      <td>2016-03-25 22:59:23 +0000</td>\n",
       "      <td>http://www.flipkart.com/aw-bellies/p/itmeh4grg...</td>\n",
       "      <td>aw bellies</td>\n",
       "      <td>['footwear', 'womens footwear', 'ballerinas', ...</td>\n",
       "      <td>SHOEH4GRSUBJGZXE</td>\n",
       "      <td>999.0</td>\n",
       "      <td>499.0</td>\n",
       "      <td>[\"http://img5a.flixcart.com/image/shoe/7/z/z/r...</td>\n",
       "      <td>False</td>\n",
       "      <td>key features of aw bellies sandals wedges heel...</td>\n",
       "      <td>0.0</td>\n",
       "      <td>0.0</td>\n",
       "      <td>aw</td>\n",
       "      <td>[{'key': 'Ideal For', 'value': 'Women'}, {'key...</td>\n",
       "      <td>ideal for: women, occasion: casual, color: red...</td>\n",
       "      <td>footwear, womens footwear, ballerinas, aw bellies</td>\n",
       "    </tr>\n",
       "  </tbody>\n",
       "</table>\n",
       "</div>"
      ],
      "text/plain": [
       "                            uniq_id            crawl_timestamp  \\\n",
       "0  f449ec65dcbc041b6ae5e6a32717d01b  2016-03-25 22:59:23 +0000   \n",
       "\n",
       "                                         product_url product_name  \\\n",
       "0  http://www.flipkart.com/aw-bellies/p/itmeh4grg...   aw bellies   \n",
       "\n",
       "                               product_category_tree               pid  \\\n",
       "0  ['footwear', 'womens footwear', 'ballerinas', ...  SHOEH4GRSUBJGZXE   \n",
       "\n",
       "   retail_price  discounted_price  \\\n",
       "0         999.0             499.0   \n",
       "\n",
       "                                               image  is_FK_Advantage_product  \\\n",
       "0  [\"http://img5a.flixcart.com/image/shoe/7/z/z/r...                    False   \n",
       "\n",
       "                                         description  product_rating  \\\n",
       "0  key features of aw bellies sandals wedges heel...             0.0   \n",
       "\n",
       "   overall_rating brand                             product_specifications  \\\n",
       "0             0.0    aw  [{'key': 'Ideal For', 'value': 'Women'}, {'key...   \n",
       "\n",
       "                            formatted_specifications  \\\n",
       "0  ideal for: women, occasion: casual, color: red...   \n",
       "\n",
       "                                    product_category  \n",
       "0  footwear, womens footwear, ballerinas, aw bellies  "
      ]
     },
     "execution_count": 11,
     "metadata": {},
     "output_type": "execute_result"
    }
   ],
   "source": [
    "df.head(1)"
   ]
  },
  {
   "cell_type": "code",
   "execution_count": null,
   "metadata": {},
   "outputs": [
    {
     "data": {
      "text/plain": [
       "[\"[{'key': 'Ideal For', 'value': 'Women'}, {'key': 'Occasion', 'value': 'Casual'}, {'key': 'Color', 'value': 'Red'}, {'key': 'Outer Material', 'value': 'Patent Leather'}, {'key': 'Heel Height', 'value': '1 inch'}, {'key': 'Number of Contents in Sales Package', 'value': 'Pack of 1'}, {'value': 'One Pair Of Shoes'}]\",\n",
       " \"[{'key': 'Pet Type', 'value': 'Dog'}, {'key': 'Brand', 'value': 'Sicons'}, {'key': 'Quantity', 'value': '500 ml'}, {'key': 'Model Number', 'value': 'SH.DF-14'}, {'key': 'Type', 'value': 'All Purpose'}, {'key': 'Fragrance', 'value': 'Arnica'}, {'key': 'Form Factor', 'value': 'Liquid'}, {'key': 'Sales Package', 'value': 'Shampoo Sicons Dog Fashion Arnica'}]\",\n",
       " \"[{'key': 'Model Name', 'value': 'Gandhi Paper Weight Mark V'}, {'key': 'Weight', 'value': '323 g'}, {'value': 'Paper Weight'}, {'key': 'Paper Weight Material', 'value': 'Crystal'}, {'key': 'Paper Weight Finish', 'value': 'Silver Finish'}]\",\n",
       " \"[{'key': 'Occasion', 'value': 'Ethnic, Casual, Party, Formal'}, {'key': 'Ideal For', 'value': 'Women'}, {'key': 'Weight', 'value': '200 g (per single Shoe) - Weight of the product may vary depending on size.'}, {'key': 'Heel Height', 'value': '0 inch'}, {'key': 'Outer Material', 'value': 'Fabric'}, {'key': 'Color', 'value': 'Pink'}]\",\n",
       " \"[{'key': 'Occasion', 'value': 'Casual'}, {'key': 'Ideal For', 'value': 'Women'}, {'key': 'Heel Height', 'value': '0 inch'}, {'key': 'Outer Material', 'value': 'PU'}, {'key': 'Color', 'value': 'Black'}]\",\n",
       " \"[{'key': 'Pet Type', 'value': 'Dog'}, {'key': 'Brand', 'value': 'Sicons'}, {'key': 'Quantity', 'value': '200 ml'}, {'key': 'Model Number', 'value': 'SH.DF-07'}, {'key': 'Type', 'value': 'All Purpose'}, {'key': 'Fragrance', 'value': 'Tea Tree'}, {'key': 'Form Factor', 'value': 'Spray'}, {'key': 'Sales Package', 'value': 'Shampoo Sicons Dog Fashion Dry Bath Urban Pet'}]\",\n",
       " \"[{'key': 'Body Material', 'value': 'Stainless steel'}, {'key': 'Type', 'value': 'Bottle'}, {'key': 'Number of Contents in Sales Package', 'value': 'Pack of 1'}, {'key': 'Sales Package', 'value': '1 pcs in one packet'}]\",\n",
       " \"[{'key': 'Occasion', 'value': 'Casual'}, {'key': 'Ideal For', 'value': 'Women'}, {'key': 'Heel Height', 'value': '1 inch'}, {'key': 'Outer Material', 'value': 'PU'}, {'key': 'Color', 'value': 'Black'}, {'value': '1 slipper'}]\",\n",
       " '[{\\'key\\': \\'Neck\\', \\'value\\': \\'Round Neck\\'}, {\\'key\\': \\'Fabric\\', \\'value\\': \\'SwimLycra\\'}, {\\'key\\': \\'Type\\', \\'value\\': \\'Swim-dress\\'}, {\\'key\\': \\'Pattern\\', \\'value\\': \\'Printed\\'}, {\\'key\\': \\'Ideal For\\', \\'value\\': \"Women\\'s\"}, {\\'key\\': \\'Occasion\\', \\'value\\': \\'Sports\\'}, {\\'value\\': \\'Wash with Similar Colors, Use Detergent for Colors\\'}, {\\'value\\': \\'1 Swimware\\'}]',\n",
       " '[{\\'value\\': \\'1 Sofa Bed\\'}, {\\'key\\': \\'Installation & Demo Details\\', \\'value\\': \\'Installation and demo for this product is done free of cost as part of this purchase. Our service partner will visit your location within 72 business hours from the delivery of the product.\\'}, {\\'value\\': \\'Cancellation NOT allowed for this product after 24 hrs of order booking.\\'}, {\\'value\\': \"- The color of the product may vary slightly compared to the picture displayed on your screen. This is due to lighting, pixel quality and color settings - Please check the product\\'s dimensions to ensure the product will fit in the desired location. Also, check if the product will fit through...View More - The color of the product may vary slightly compared to the picture displayed on your screen. This is due to lighting, pixel quality and color settings - Please check the product\\'s dimensions to ensure the product will fit in the desired location. Also, check if the product will fit through the entrance(s) and door(s) of the premises - Please expect an unevenness of up to 5 mm in the product due to differences in surfaces and floor levels - Flipkart, or the Seller delivering the product, will not take up any type of civil work, such as drilling holes in the wall to mount the product. The product will only be assembled in case carpentry assembly is required - In case the product appears to lack shine, wiping the surface with a cloth will help clear the surface of dust particles\"}, {\\'key\\': \\'Brand\\', \\'value\\': \\'FabHomeDecor\\'}, {\\'key\\': \\'Mattress Included\\', \\'value\\': \\'No\\'}, {\\'key\\': \\'Delivery Condition\\', \\'value\\': \\'Knock Down\\'}, {\\'key\\': \\'Storage Included\\', \\'value\\': \\'No\\'}, {\\'key\\': \\'Mechanism Type\\', \\'value\\': \\'Pull Out\\'}, {\\'key\\': \\'Type\\', \\'value\\': \\'Sofa Bed\\'}, {\\'key\\': \\'Style\\', \\'value\\': \\'Contemporary and Modern\\'}, {\\'key\\': \\'Filling Material\\', \\'value\\': \\'Microfiber\\'}, {\\'key\\': \\'Seating Capacity\\', \\'value\\': \\'3 Seater\\'}, {\\'key\\': \\'Upholstery Type\\', \\'value\\': \\'NA\\'}, {\\'key\\': \\'Upholstery Included\\', \\'value\\': \\'No\\'}, {\\'key\\': \\'Bed Size\\', \\'value\\': \\'Double\\'}, {\\'key\\': \\'Shape\\', \\'value\\': \\'Square\\'}, {\\'key\\': \\'Suitable For\\', \\'value\\': \\'Living Room\\'}, {\\'key\\': \\'Model Number\\', \\'value\\': \\'FHD115\\'}, {\\'key\\': \\'Finish Type\\', \\'value\\': \\'Matte\\'}, {\\'key\\': \\'Care Instructions\\', \\'value\\': \"Avoid outdoor use and exposure to water or prolonged moisture, Avoid exposure to direct heat or sunlight as this can cause the sofa colour to fade, Keep sharp objects away from your sofa, A little tear on the fabric cover may be hard to repair, Vacuum your sofas periodically with a soft bristled bru...View More Avoid outdoor use and exposure to water or prolonged moisture, Avoid exposure to direct heat or sunlight as this can cause the sofa colour to fade, Keep sharp objects away from your sofa, A little tear on the fabric cover may be hard to repair, Vacuum your sofas periodically with a soft bristled brush attachment or lightly brush them to keep general dirt and dust off the sofa and prevent any embedding between the fibres, Try to avoid food and drink spillage of any kind, If spills occur, do not leave unattended, In case of a stain, a water-free fabric cleaner can be used, However, avoid applying the cleaner directly on the stain as this can cause damage to the fabric and fade colour, Pour the cleaner onto a clean cloth and test its effect on a hidden area of the sofa before cleaning the stain with the cloth, A professional scotchguard treatment is one of the easiest and most effective options to protect against spills or stains and keep pet hair at bay, Getting your sofa professionally cleaned once every 6-8 months will not only take care of the nooks and corners that you can\\'t reach, it will also make it more durable\"}, {\\'key\\': \\'Weight\\', \\'value\\': \\'40 kg\\'}, {\\'key\\': \\'Height\\', \\'value\\': \\'838.2 mm\\'}, {\\'key\\': \\'Width\\', \\'value\\': \\'1905 mm\\'}, {\\'key\\': \\'Depth\\', \\'value\\': \\'939.8 mm\\'}, {\\'key\\': \\'Covered in Warranty\\', \\'value\\': \\'Warranty covers all kind of manufacturing defects. Concerned product will either be repaired or replaced based on discretion.\\'}, {\\'key\\': \\'Warranty Summary\\', \\'value\\': \\'6 Months Domestic Warranty\\'}, {\\'key\\': \\'Service Type\\', \\'value\\': \\'Manufacturer Warranty\\'}, {\\'key\\': \\'Not Covered in Warranty\\', \\'value\\': \\'Warranty does not cover for Improper Handling\\'}, {\\'key\\': \\'Primary Material\\', \\'value\\': \\'Fabric\\'}, {\\'key\\': \\'Primary Color\\', \\'value\\': \\'Brown\\'}, {\\'key\\': \\'Upholstery Color\\', \\'value\\': \\'Dark Brown\\'}, {\\'key\\': \\'Secondary Material\\', \\'value\\': \\'Foam\\'}, {\\'key\\': \\'Secondary Material Subtype\\', \\'value\\': \\'Mango Wood\\'}, {\\'key\\': \\'Finish Color\\', \\'value\\': \\'Dark Brown\\'}, {\\'key\\': \\'Primary Material Subtype\\', \\'value\\': \\'Foam\\'}]']"
      ]
     },
     "execution_count": 12,
     "metadata": {},
     "output_type": "execute_result"
    }
   ],
   "source": [
    "df[\"product_specifications\"].head(10).tolist()"
   ]
  },
  {
   "cell_type": "code",
   "execution_count": null,
   "metadata": {},
   "outputs": [
    {
     "ename": "",
     "evalue": "",
     "output_type": "error",
     "traceback": [
      "\u001b[1;31mThe kernel failed to start as the Python Environment 'Python 3.13.2' is no longer available. Consider selecting another kernel or refreshing the list of Python Environments."
     ]
    }
   ],
   "source": [
    "products = []\n",
    "specifications = []\n",
    "\n",
    "\n",
    "def parse_spec_list(raw_spec: str) -> Optional[list]:\n",
    "    try:\n",
    "        parsed = ast.literal_eval(raw_spec)\n",
    "        if isinstance(parsed, list):\n",
    "            return parsed\n",
    "    except Exception as e:\n",
    "        print(f\"Spec parsing error: {e}\")\n",
    "    return None\n",
    "\n",
    "\n",
    "for _, row in df.iterrows():\n",
    "    # Create Product instance\n",
    "    prod = Product(\n",
    "        id=row[\"uniq_id\"],\n",
    "        crawl_timestamp=str(row[\"crawl_timestamp\"]),\n",
    "        product_url=row[\"product_url\"],\n",
    "        product_name=row[\"product_name\"],\n",
    "        product_category_tree=str(row[\"product_category_tree\"]),\n",
    "        pid=row[\"pid\"],\n",
    "        retail_price=float(row[\"retail_price\"]),\n",
    "        discounted_price=float(row[\"discounted_price\"]),\n",
    "        image=str(row[\"image\"]),\n",
    "        is_fk_advantage_product=bool(row[\"is_FK_Advantage_product\"]),\n",
    "        description=row.get(\"description\"),\n",
    "        product_rating=float(row[\"product_rating\"]),\n",
    "        overall_rating=float(row[\"overall_rating\"]),\n",
    "        brand=row[\"brand\"],\n",
    "        formatted_specifications=row[\"formatted_specifications\"],\n",
    "        product_category=row[\"product_category\"],\n",
    "    )\n",
    "    products.append(prod)\n"
   ]
  },
  {
   "cell_type": "code",
   "execution_count": null,
   "metadata": {},
   "outputs": [
    {
     "data": {
      "text/plain": [
       "Product(id='f449ec65dcbc041b6ae5e6a32717d01b', crawl_timestamp='2016-03-25 22:59:23 +0000', product_url='http://www.flipkart.com/aw-bellies/p/itmeh4grgfbkexnt?pid=SHOEH4GRSUBJGZXE', product_name='aw bellies', product_category_tree=\"['footwear', 'womens footwear', 'ballerinas', 'aw bellies']\", pid='SHOEH4GRSUBJGZXE', retail_price=999.0, discounted_price=499.0, image='[\"http://img5a.flixcart.com/image/shoe/7/z/z/red-as-454-aw-11-original-imaeebfwsdf6jdf6.jpeg\", \"http://img6a.flixcart.com/image/shoe/7/z/z/red-as-454-aw-11-original-imaeebfwsdf6jdf6.jpeg\", \"http://img5a.flixcart.com/image/shoe/7/z/z/red-as-454-aw-11-original-imaeebfwt8zqc5cy.jpeg\", \"http://img5a.flixcart.com/image/shoe/7/z/z/red-as-454-aw-11-original-imaeebfwhz5f8v6m.jpeg\", \"http://img6a.flixcart.com/image/shoe/7/z/z/red-as-454-aw-11-original-imaeeducshzc6pbz.jpeg\", \"http://img6a.flixcart.com/image/shoe/7/z/z/red-as-454-aw-11-original-imaeebfw2veeuz8s.jpeg\"]', is_fk_advantage_product=False, description='key features of aw bellies sandals wedges heel casuals,aw bellies price: rs. 499 material: synthetic lifestyle: casual heel type: wedge warranty type: manufacturer product warranty against manufacturing defects: 30 days care instructions: allow your pair of shoes to air and de-odorize at regular basis; use shoe bags to prevent any stains or mildew; dust any dry dirt from the surface using a clean cloth; do not use polish or shiner,specifications of aw bellies general ideal for women occasion casual shoe details color red outer material patent leather heel height 1 inch number of contents in sales package pack of 1 in the box one pair of shoes', product_rating=0.0, overall_rating=0.0, brand='aw', formatted_specifications='ideal for: women, occasion: casual, color: red, outer material: patent leather, heel height: 1 inch, number of contents in sales package: pack of 1', product_category='footwear, womens footwear, ballerinas, aw bellies')"
      ]
     },
     "execution_count": 14,
     "metadata": {},
     "output_type": "execute_result"
    }
   ],
   "source": [
    "products[0]"
   ]
  },
  {
   "cell_type": "markdown",
   "metadata": {},
   "source": [
    "### Bulk Inset Into Postgres"
   ]
  },
  {
   "cell_type": "code",
   "execution_count": null,
   "metadata": {},
   "outputs": [
    {
     "name": "stdout",
     "output_type": "stream",
     "text": [
      "2025-04-25 19:01:18,981 INFO sqlalchemy.engine.Engine select pg_catalog.version()\n",
      "2025-04-25 19:01:18,983 INFO sqlalchemy.engine.Engine [raw sql] {}\n",
      "2025-04-25 19:01:18,988 INFO sqlalchemy.engine.Engine select current_schema()\n",
      "2025-04-25 19:01:18,990 INFO sqlalchemy.engine.Engine [raw sql] {}\n",
      "2025-04-25 19:01:18,994 INFO sqlalchemy.engine.Engine show standard_conforming_strings\n",
      "2025-04-25 19:01:18,996 INFO sqlalchemy.engine.Engine [raw sql] {}\n",
      "2025-04-25 19:01:19,001 INFO sqlalchemy.engine.Engine BEGIN (implicit)\n",
      "2025-04-25 19:01:19,004 INFO sqlalchemy.engine.Engine select relname from pg_class c join pg_namespace n on n.oid=c.relnamespace where pg_catalog.pg_table_is_visible(c.oid) and relname=%(name)s\n",
      "2025-04-25 19:01:19,006 INFO sqlalchemy.engine.Engine [generated in 0.00208s] {'name': 'product'}\n",
      "2025-04-25 19:01:19,019 INFO sqlalchemy.engine.Engine \n",
      "CREATE TABLE product (\n",
      "\tid VARCHAR NOT NULL, \n",
      "\tcrawl_timestamp VARCHAR NOT NULL, \n",
      "\tproduct_url VARCHAR NOT NULL, \n",
      "\tproduct_name VARCHAR NOT NULL, \n",
      "\tproduct_category_tree VARCHAR NOT NULL, \n",
      "\tpid VARCHAR NOT NULL, \n",
      "\tretail_price FLOAT NOT NULL, \n",
      "\tdiscounted_price FLOAT NOT NULL, \n",
      "\timage VARCHAR NOT NULL, \n",
      "\tis_fk_advantage_product BOOLEAN NOT NULL, \n",
      "\tdescription VARCHAR, \n",
      "\tproduct_rating FLOAT NOT NULL, \n",
      "\toverall_rating FLOAT NOT NULL, \n",
      "\tbrand VARCHAR NOT NULL, \n",
      "\tformatted_specifications VARCHAR NOT NULL, \n",
      "\tproduct_category VARCHAR NOT NULL, \n",
      "\tPRIMARY KEY (id)\n",
      ")\n",
      "\n",
      "\n",
      "2025-04-25 19:01:19,021 INFO sqlalchemy.engine.Engine [no key 0.00155s] {}\n",
      "2025-04-25 19:01:19,047 INFO sqlalchemy.engine.Engine COMMIT\n"
     ]
    }
   ],
   "source": [
    "create_db()"
   ]
  },
  {
   "cell_type": "code",
   "execution_count": null,
   "metadata": {},
   "outputs": [
    {
     "name": "stdout",
     "output_type": "stream",
     "text": [
      "2025-04-25 19:01:19,426 INFO sqlalchemy.engine.Engine BEGIN (implicit)\n",
      "2025-04-25 19:01:20,201 INFO sqlalchemy.engine.Engine INSERT INTO product (id, crawl_timestamp, product_url, product_name, product_category_tree, pid, retail_price, discounted_price, image, is_fk_advantage_product, description, product_rating, overall_rating, brand, formatted_specifications, product_category) VALUES (%(id)s, %(crawl_timestamp)s, %(product_url)s, %(product_name)s, %(product_category_tree)s, %(pid)s, %(retail_price)s, %(discounted_price)s, %(image)s, %(is_fk_advantage_product)s, %(description)s, %(product_rating)s, %(overall_rating)s, %(brand)s, %(formatted_specifications)s, %(product_category)s)\n",
      "2025-04-25 19:01:20,203 INFO sqlalchemy.engine.Engine [generated in 0.24820s] ({'id': 'f449ec65dcbc041b6ae5e6a32717d01b', 'crawl_timestamp': '2016-03-25 22:59:23 +0000', 'product_url': 'http://www.flipkart.com/aw-bellies/p/itmeh4grgfbkexnt?pid=SHOEH4GRSUBJGZXE', 'product_name': 'aw bellies', 'product_category_tree': \"['footwear', 'womens footwear', 'ballerinas', 'aw bellies']\", 'pid': 'SHOEH4GRSUBJGZXE', 'retail_price': 999.0, 'discounted_price': 499.0, 'image': '[\"http://img5a.flixcart.com/image/shoe/7/z/z/red-as-454-aw-11-original-imaeebfwsdf6jdf6.jpeg\", \"http://img6a.flixcart.com/image/shoe/7/z/z/red-as-454 ... (266 characters truncated) ... 7/z/z/red-as-454-aw-11-original-imaeeducshzc6pbz.jpeg\", \"http://img6a.flixcart.com/image/shoe/7/z/z/red-as-454-aw-11-original-imaeebfw2veeuz8s.jpeg\"]', 'is_fk_advantage_product': False, 'description': 'key features of aw bellies sandals wedges heel casuals,aw bellies price: rs. 499 material: synthetic lifestyle: casual heel type: wedge warranty type ... (352 characters truncated) ... al shoe details color red outer material patent leather heel height 1 inch number of contents in sales package pack of 1 in the box one pair of shoes', 'product_rating': 0.0, 'overall_rating': 0.0, 'brand': 'aw', 'formatted_specifications': 'ideal for: women, occasion: casual, color: red, outer material: patent leather, heel height: 1 inch, number of contents in sales package: pack of 1', 'product_category': 'footwear, womens footwear, ballerinas, aw bellies'}, {'id': 'bc940ea42ee6bef5ac7cea3fb5cfbee7', 'crawl_timestamp': '2016-03-25 22:59:23 +0000', 'product_url': 'http://www.flipkart.com/sicons-all-purpose-arnica-dog-shampoo/p/itmeh3zyw2vhgsp5?pid=PSOEH3ZYDMSYARJ5', 'product_name': 'sicons all purpose arnica dog shampoo', 'product_category_tree': \"['pet supplies', 'grooming', 'skin  coat care', 'shampoo', 'sicons all purpose arnica dog shampoo 500 ml']\", 'pid': 'PSOEH3ZYDMSYARJ5', 'retail_price': 220.0, 'discounted_price': 210.0, 'image': '[\"http://img5a.flixcart.com/image/pet-shampoo/r/j/5/sh-df-14-sicons-500-1100x1100-imaeh3hfvav85tva.jpeg\", \"http://img5a.flixcart.com/image/pet-shampoo/r/j/5/sh-df-14-sicons-500-original-imaeh3hfvav85tva.jpeg\"]', 'is_fk_advantage_product': False, 'description': 'specifications of sicons all purpose arnica dog shampoo (500 ml) general pet type dog brand sicons quantity 500 ml model number sh.df-14 type all purpose fragrance arnica form factor liquid in the box sales package shampoo sicons dog fashion arnica', 'product_rating': 0.0, 'overall_rating': 0.0, 'brand': 'sicons', 'formatted_specifications': 'pet type: dog, brand: sicons, quantity: 500 ml, model number: sh.df-14, type: all purpose, fragrance: arnica, form factor: liquid, sales package: shampoo sicons dog fashion arnica', 'product_category': 'pet supplies, grooming, skin  coat care, shampoo, sicons all purpose arnica dog shampoo 500 ml'}, {'id': 'c2a17313954882c1dba461863e98adf2', 'crawl_timestamp': '2016-03-25 22:59:23 +0000', 'product_url': 'http://www.flipkart.com/eternal-gandhi-super-series-crystal-paper-weights-silver-finish/p/itmeb7h2hrfgutxb?pid=PWTEB7H2E4KCYUE3', 'product_name': 'eternal gandhi super series crystal paper weights  with silver finish', 'product_category_tree': \"['eternal gandhi super series crystal paper weight']\", 'pid': 'PWTEB7H2E4KCYUE3', 'retail_price': 430.0, 'discounted_price': 430.0, 'image': '[\"http://img5a.flixcart.com/image/paper-weight/u/e/3/eternal-gandhi-gandhi-paper-weight-mark-v-1100x1100-imaeb8adyf3xmqhf.jpeg\", \"http://img5a.flixcart.com/image/paper-weight/u/e/3/eternal-gandhi-gandhi-paper-weight-mark-v-original-imaeb8adyf3xmqhf.jpeg\"]', 'is_fk_advantage_product': False, 'description': 'key features of eternal gandhi super series crystal paper weights  with silver finish crystal  paper weight product dimensions :   8cm x  8cm x 5cm a ... (574 characters truncated) ... r weight mark v dimensions weight 323 g in the box paper weight paper weight features paper weight material crystal paper weight finish silver finish', 'product_rating': 0.0, 'overall_rating': 0.0, 'brand': 'eternal gandhi', 'formatted_specifications': 'model name: gandhi paper weight mark v, weight: 323 g, paper weight material: crystal, paper weight finish: silver finish', 'product_category': 'eternal gandhi super series crystal paper weight'}, {'id': '29c8d290caa451f97b1c32df64477a2c', 'crawl_timestamp': '2016-03-25 22:59:23 +0000', 'product_url': 'http://www.flipkart.com/dilli-bazaaar-bellies-corporate-casuals-casuals/p/itmeh2paagfuhbzh?pid=SHOEH3DZBFR88SCK', 'product_name': 'dilli bazaaar bellies, corporate casuals, casuals', 'product_category_tree': \"['footwear', 'womens footwear', 'ballerinas', 'dilli bazaaar bellies corporate casuals casuals']\", 'pid': 'SHOEH3DZBFR88SCK', 'retail_price': 699.0, 'discounted_price': 349.0, 'image': '[\"http://img6a.flixcart.com/image/shoe/b/p/n/pink-200db202-dilli-bazaaar-10-original-imaeh2zz4x6hnuwf.jpeg\", \"http://img6a.flixcart.com/image/shoe/b/ ... (133 characters truncated) ... azaaar-9-original-imaeh2zzv2hzkepv.jpeg\", \"http://img5a.flixcart.com/image/shoe/b/p/n/pink-200db202-dilli-bazaaar-10-original-imaeh2zztckv2tqj.jpeg\"]', 'is_fk_advantage_product': False, 'description': 'key features of dilli bazaaar bellies, corporate casuals, casuals material: fabric occasion: ethnic, casual, party, formal color: pink heel height: 0 ... (130 characters truncated) ... n shoe details weight 200 g (per single shoe) - weight of the product may vary depending on size. heel height 0 inch outer material fabric color pink', 'product_rating': 0.0, 'overall_rating': 0.0, 'brand': 'dilli bazaaar', 'formatted_specifications': 'occasion: ethnic, casual, party, formal, ideal for: women, weight: 200 g (per single shoe) - weight of the product may vary depending on size., heel height: 0 inch, outer material: fabric, color: pink', 'product_category': 'footwear, womens footwear, ballerinas, dilli bazaaar bellies corporate casuals casuals'}, {'id': 'e54bc0a7c3429da2ebef0b30331fe3d2', 'crawl_timestamp': '2016-03-25 22:59:23 +0000', 'product_url': 'http://www.flipkart.com/ladela-bellies/p/itmeh4kmxght7tuc?pid=SHOEH4KM2W3Z6EH5', 'product_name': 'ladela bellies', 'product_category_tree': \"['footwear', 'womens footwear', 'ballerinas', 'ladela bellies']\", 'pid': 'SHOEH4KM2W3Z6EH5', 'retail_price': 1724.0, 'discounted_price': 950.0, 'image': '[\"http://img5a.flixcart.com/image/shoe/s/g/m/black-r998-22-ladela-38-original-imaega8phqh6tf4e.jpeg\", \"http://img6a.flixcart.com/image/shoe/s/g/m/bla ... (308 characters truncated) ... 98-22-ladela-38-original-imaeh3w9pyfvmqap.jpeg\", \"http://img5a.flixcart.com/image/shoe/s/g/m/black-r998-22-ladela-38-original-imaeh3w9cycrgdgt.jpeg\"]', 'is_fk_advantage_product': False, 'description': 'key features of ladela bellies brand: ladela color : black,ladela bellies price: rs. 950 experience the best bellies from the house of ladela. provid ... (60 characters truncated) ... the whole day.,specifications of ladela bellies general occasion casual ideal for women shoe details heel height 0 inch outer material pu color black', 'product_rating': 5.0, 'overall_rating': 5.0, 'brand': 'ladela', 'formatted_specifications': 'occasion: casual, ideal for: women, heel height: 0 inch, outer material: pu, color: black', 'product_category': 'footwear, womens footwear, ballerinas, ladela bellies'}, {'id': 'c29af37837afcaf44b779eca7c19295f', 'crawl_timestamp': '2016-03-25 22:59:23 +0000', 'product_url': 'http://www.flipkart.com/sicons-all-purpose-tea-tree-dog-shampoo/p/itmeh3zyhfrgh3re?pid=PSOEH3ZYYFETGCCD', 'product_name': 'sicons all purpose tea tree dog shampoo', 'product_category_tree': \"['pet supplies', 'grooming', 'skin  coat care', 'shampoo', 'sicons all purpose tea tree dog shampoo 200 ml']\", 'pid': 'PSOEH3ZYYFETGCCD', 'retail_price': 0.0, 'discounted_price': 0.0, 'image': '[\"http://img6a.flixcart.com/image/pet-shampoo/c/c/d/sh-df-07-sicons-200-1100x1100-imaeh3kvn25fznjt.jpeg\", \"http://img6a.flixcart.com/image/pet-shampoo/c/c/d/sh-df-07-sicons-200-original-imaeh3kvn25fznjt.jpeg\"]', 'is_fk_advantage_product': False, 'description': 'specifications of sicons all purpose tea tree dog shampoo (200 ml) general pet type dog brand sicons quantity 200 ml model number sh.df-07 type all purpose fragrance tea tree form factor spray in the box sales package shampoo sicons dog fashion dry bath urban pet', 'product_rating': 0.0, 'overall_rating': 0.0, 'brand': 'sicons', 'formatted_specifications': 'pet type: dog, brand: sicons, quantity: 200 ml, model number: sh.df-07, type: all purpose, fragrance: tea tree, form factor: spray, sales package: shampoo sicons dog fashion dry bath urban pet', 'product_category': 'pet supplies, grooming, skin  coat care, shampoo, sicons all purpose tea tree dog shampoo 200 ml'}, {'id': '83c53f8948f508f51d2249b489ca8e7d', 'crawl_timestamp': '2016-03-25 22:59:23 +0000', 'product_url': 'http://www.flipkart.com/freelance-vacuum-bottles-350-ml-bottle/p/itmegytzpkgmrew5?pid=BOTEGYTZ2T6WUJMM', 'product_name': 'freelance vacuum bottles 350 ml bottle', 'product_category_tree': \"['pens  stationery', 'school supplies', 'water bottles', 'freelance water bottles', 'freelance vacuum bottles 350 ml bottle pack of']\", 'pid': 'BOTEGYTZ2T6WUJMM', 'retail_price': 699.0, 'discounted_price': 699.0, 'image': '[\"http://img5a.flixcart.com/image/bottle/j/m/m/av004bgr-freelance-350-vacuum-bottles-1000x1000-imaegykdk6ytzrzz.jpeg\", \"http://img6a.flixcart.com/ima ... (405 characters truncated) ... original-imaegykdgxzzetjw.jpeg\", \"http://img5a.flixcart.com/image/bottle/j/m/m/av004bgr-freelance-350-vacuum-bottles-original-imaegykdy3humv3v.jpeg\"]', 'is_fk_advantage_product': False, 'description': 'specifications of freelance vacuum bottles 350 ml bottle (pack of 1, green) general body material stainless steel type bottle in the box number of contents in sales package pack of 1 sales package 1 pcs in one packet', 'product_rating': 0.0, 'overall_rating': 0.0, 'brand': 'freelance', 'formatted_specifications': 'body material: stainless steel, type: bottle, number of contents in sales package: pack of 1, sales package: 1 pcs in one packet', 'product_category': 'pens  stationery, school supplies, water bottles, freelance water bottles, freelance vacuum bottles 350 ml bottle pack of'}, {'id': 'c275ee5ac19f774a3ef7da71b40aabd8', 'crawl_timestamp': '2016-03-25 22:59:23 +0000', 'product_url': 'http://www.flipkart.com/style-foot-bellies/p/itmeh4fssgzabe5h?pid=SHOEH4FSHEDEMVTM', 'product_name': 'style foot bellies', 'product_category_tree': \"['footwear', 'womens footwear', 'ballerinas', 'style foot bellies']\", 'pid': 'SHOEH4FSHEDEMVTM', 'retail_price': 899.0, 'discounted_price': 449.0, 'image': '[\"http://img5a.flixcart.com/image/shoe/p/f/h/black-sfwf0377-style-foot-44-original-imaeh4cxasyrdtjr.jpeg\", \"http://img5a.flixcart.com/image/shoe/v/t/ ... (232 characters truncated) ... le-foot-44-original-imaeh4cxzzcbeudz.jpeg\", \"http://img5a.flixcart.com/image/shoe/v/t/m/black-sfwf0377-style-foot-43-original-imaeh4cxvjpek25n.jpeg\"]', 'is_fk_advantage_product': False, 'description': 'key features of style foot bellies ballerina shoes ballerina flats,style foot bellies price: rs. 449 ballet shoes that fits perfectly for casual and  ... (21 characters truncated) ... ions of style foot bellies general occasion casual ideal for women shoe details heel height 1 inch outer material pu color black in the box 1 slipper', 'product_rating': 0.0, 'overall_rating': 0.0, 'brand': 'style foot', 'formatted_specifications': 'occasion: casual, ideal for: women, heel height: 1 inch, outer material: pu, color: black', 'product_category': 'footwear, womens footwear, ballerinas, style foot bellies'}  ... displaying 10 of 12676 total bound parameter sets ...  {'id': '71ac419198359d37b8fe5e3fffdfee09', 'crawl_timestamp': '2015-12-01 10:15:43 +0000', 'product_url': 'http://www.flipkart.com/wallmantra-large-vinyl-stickers-sticker/p/itme9f5uyrchcxhf?pid=STIE9F5URNQGJCGH', 'product_name': 'wallmantra large vinyl stickers sticker', 'product_category_tree': \"['baby care', 'baby  kids gifts', 'stickers', 'wallmantra stickers']\", 'pid': 'STIE9F5URNQGJCGH', 'retail_price': 1429.0, 'discounted_price': 1143.0, 'image': '[\"http://img6a.flixcart.com/image/sticker/z/g/s/wmkids101-xl-wallmantra-105-cute-birdie-elephant-kids-wall-decal-original-imae8xrnhhxsgv8d.jpeg\", \"http://img5a.flixcart.com/image/sticker/z/g/s/wmkids101-xl-wallmantra-105-cute-birdie-elephant-kids-wall-decal-original-imae8xrnxzyqprbs.jpeg\"]', 'is_fk_advantage_product': False, 'description': 'buy wallmantra large vinyl stickers sticker for rs.1143 online. wallmantra large vinyl stickers sticker at best prices with free shipping & cash on delivery. only genuine products. 30 day replacement guarantee.', 'product_rating': 0.0, 'overall_rating': 0.0, 'brand': 'wallmantra', 'formatted_specifications': 'number of contents in sales package: pack of 1, sales package: 1 wall decal, 2 practise decals, instruction manual, ideal use: wall, brand: wallmantr ... (52 characters truncated) ... ted: no, type: vinyl stickers, number of stickers: 1, size in number: 75 cm, material: vinyl, size: large, weight: 200 g, height: 60 cm, width: 75 cm', 'product_category': 'baby care, baby  kids gifts, stickers, wallmantra stickers'}, {'id': 'cb4fa87a874f715fff567f7b7b3be79c', 'crawl_timestamp': '2015-12-01 10:15:43 +0000', 'product_url': 'http://www.flipkart.com/elite-collection-medium-acrylic-sticker/p/itme88knfk6p45ea?pid=STIE88KN9ZDSGZKY', 'product_name': 'elite collection medium acrylic sticker', 'product_category_tree': \"['baby care', 'baby  kids gifts', 'stickers', 'elite collection stickers']\", 'pid': 'STIE88KN9ZDSGZKY', 'retail_price': 1499.0, 'discounted_price': 999.0, 'image': '[\"http://img6a.flixcart.com/image/sticker/z/k/y/three-flowers2-elite-collection-0-2-3d-home-office-decor-wall-1100x1100-imae87zgthdyqaer.jpeg\", \"http://img6a.flixcart.com/image/sticker/z/k/y/three-flowers2-elite-collection-0-2-3d-home-office-decor-wall-original-imae87zgthdyqaer.jpeg\"]', 'is_fk_advantage_product': False, 'description': 'buy elite collection medium acrylic sticker for rs.999 online. elite collection medium acrylic sticker at best prices with free shipping & cash on delivery. only genuine products. 30 day replacement guarantee.', 'product_rating': 0.0, 'overall_rating': 0.0, 'brand': 'elite collection', 'formatted_specifications': 'number of contents in sales package: pack of 3, sales package: 3d acrylic wall decor decal, self adhesive tape, installation guide, ideal use: wall,  ... (7 characters truncated) ... elite collection, scratch-resistant: no, type: acrylic, number of stickers: 3, size in number: 0.2 cm, size: medium, weight: 500 g, thickness: 0.2 cm', 'product_category': 'baby care, baby  kids gifts, stickers, elite collection stickers'})\n",
      "2025-04-25 19:01:23,236 INFO sqlalchemy.engine.Engine COMMIT\n"
     ]
    }
   ],
   "source": [
    "with next(get_session()) as session:\n",
    "    session.add_all(products)\n",
    "    session.commit()"
   ]
  },
  {
   "cell_type": "code",
   "execution_count": null,
   "metadata": {},
   "outputs": [],
   "source": []
  }
 ],
 "metadata": {
  "kernelspec": {
   "display_name": "venv",
   "language": "python",
   "name": "python3"
  },
  "language_info": {
   "codemirror_mode": {
    "name": "ipython",
    "version": 3
   },
   "file_extension": ".py",
   "mimetype": "text/x-python",
   "name": "python",
   "nbconvert_exporter": "python",
   "pygments_lexer": "ipython3",
   "version": "3.10.13"
  }
 },
 "nbformat": 4,
 "nbformat_minor": 2
}
