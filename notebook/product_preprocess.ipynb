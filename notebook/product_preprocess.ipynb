{
 "cells": [
  {
   "cell_type": "markdown",
   "metadata": {},
   "source": [
    "### Import Packages"
   ]
  },
  {
   "cell_type": "code",
   "execution_count": null,
   "metadata": {},
   "outputs": [],
   "source": [
    "import pandas as pd\n",
    "import numpy as np\n",
    "import json"
   ]
  },
  {
   "cell_type": "markdown",
   "metadata": {},
   "source": [
    "### Download Dataset"
   ]
  },
  {
   "cell_type": "code",
   "execution_count": 1,
   "metadata": {},
   "outputs": [
    {
     "ename": "NameError",
     "evalue": "name 'pd' is not defined",
     "output_type": "error",
     "traceback": [
      "\u001b[31m---------------------------------------------------------------------------\u001b[39m",
      "\u001b[31mNameError\u001b[39m                                 Traceback (most recent call last)",
      "\u001b[36mCell\u001b[39m\u001b[36m \u001b[39m\u001b[32mIn[1]\u001b[39m\u001b[32m, line 1\u001b[39m\n\u001b[32m----> \u001b[39m\u001b[32m1\u001b[39m df = \u001b[43mpd\u001b[49m.read_csv(\u001b[33m\"\u001b[39m\u001b[33m../dataset/initial_products.csv\u001b[39m\u001b[33m\"\u001b[39m)\n",
      "\u001b[31mNameError\u001b[39m: name 'pd' is not defined"
     ]
    }
   ],
   "source": [
    "df = pd.read_csv(\"../dataset/initial_products.csv\")"
   ]
  },
  {
   "cell_type": "code",
   "execution_count": null,
   "metadata": {},
   "outputs": [
    {
     "data": {
      "text/plain": [
       "20000"
      ]
     },
     "execution_count": 3,
     "metadata": {},
     "output_type": "execute_result"
    }
   ],
   "source": [
    "len(df)"
   ]
  },
  {
   "cell_type": "code",
   "execution_count": null,
   "metadata": {},
   "outputs": [
    {
     "data": {
      "text/html": [
       "<div>\n",
       "<style scoped>\n",
       "    .dataframe tbody tr th:only-of-type {\n",
       "        vertical-align: middle;\n",
       "    }\n",
       "\n",
       "    .dataframe tbody tr th {\n",
       "        vertical-align: top;\n",
       "    }\n",
       "\n",
       "    .dataframe thead th {\n",
       "        text-align: right;\n",
       "    }\n",
       "</style>\n",
       "<table border=\"1\" class=\"dataframe\">\n",
       "  <thead>\n",
       "    <tr style=\"text-align: right;\">\n",
       "      <th></th>\n",
       "      <th>uniq_id</th>\n",
       "      <th>crawl_timestamp</th>\n",
       "      <th>product_url</th>\n",
       "      <th>product_name</th>\n",
       "      <th>product_category_tree</th>\n",
       "      <th>pid</th>\n",
       "      <th>retail_price</th>\n",
       "      <th>discounted_price</th>\n",
       "      <th>image</th>\n",
       "      <th>is_FK_Advantage_product</th>\n",
       "      <th>description</th>\n",
       "      <th>product_rating</th>\n",
       "      <th>overall_rating</th>\n",
       "      <th>brand</th>\n",
       "      <th>product_specifications</th>\n",
       "    </tr>\n",
       "  </thead>\n",
       "  <tbody>\n",
       "    <tr>\n",
       "      <th>0</th>\n",
       "      <td>c2d766ca982eca8304150849735ffef9</td>\n",
       "      <td>2016-03-25 22:59:23 +0000</td>\n",
       "      <td>http://www.flipkart.com/alisha-solid-women-s-c...</td>\n",
       "      <td>Alisha Solid Women's Cycling Shorts</td>\n",
       "      <td>[\"Clothing &gt;&gt; Women's Clothing &gt;&gt; Lingerie, Sl...</td>\n",
       "      <td>SRTEH2FF9KEDEFGF</td>\n",
       "      <td>999.0</td>\n",
       "      <td>379.0</td>\n",
       "      <td>[\"http://img5a.flixcart.com/image/short/u/4/a/...</td>\n",
       "      <td>False</td>\n",
       "      <td>Key Features of Alisha Solid Women's Cycling S...</td>\n",
       "      <td>No rating available</td>\n",
       "      <td>No rating available</td>\n",
       "      <td>Alisha</td>\n",
       "      <td>{\"product_specification\"=&gt;[{\"key\"=&gt;\"Number of ...</td>\n",
       "    </tr>\n",
       "    <tr>\n",
       "      <th>1</th>\n",
       "      <td>7f7036a6d550aaa89d34c77bd39a5e48</td>\n",
       "      <td>2016-03-25 22:59:23 +0000</td>\n",
       "      <td>http://www.flipkart.com/fabhomedecor-fabric-do...</td>\n",
       "      <td>FabHomeDecor Fabric Double Sofa Bed</td>\n",
       "      <td>[\"Furniture &gt;&gt; Living Room Furniture &gt;&gt; Sofa B...</td>\n",
       "      <td>SBEEH3QGU7MFYJFY</td>\n",
       "      <td>32157.0</td>\n",
       "      <td>22646.0</td>\n",
       "      <td>[\"http://img6a.flixcart.com/image/sofa-bed/j/f...</td>\n",
       "      <td>False</td>\n",
       "      <td>FabHomeDecor Fabric Double Sofa Bed (Finish Co...</td>\n",
       "      <td>No rating available</td>\n",
       "      <td>No rating available</td>\n",
       "      <td>FabHomeDecor</td>\n",
       "      <td>{\"product_specification\"=&gt;[{\"key\"=&gt;\"Installati...</td>\n",
       "    </tr>\n",
       "    <tr>\n",
       "      <th>2</th>\n",
       "      <td>f449ec65dcbc041b6ae5e6a32717d01b</td>\n",
       "      <td>2016-03-25 22:59:23 +0000</td>\n",
       "      <td>http://www.flipkart.com/aw-bellies/p/itmeh4grg...</td>\n",
       "      <td>AW Bellies</td>\n",
       "      <td>[\"Footwear &gt;&gt; Women's Footwear &gt;&gt; Ballerinas &gt;...</td>\n",
       "      <td>SHOEH4GRSUBJGZXE</td>\n",
       "      <td>999.0</td>\n",
       "      <td>499.0</td>\n",
       "      <td>[\"http://img5a.flixcart.com/image/shoe/7/z/z/r...</td>\n",
       "      <td>False</td>\n",
       "      <td>Key Features of AW Bellies Sandals Wedges Heel...</td>\n",
       "      <td>No rating available</td>\n",
       "      <td>No rating available</td>\n",
       "      <td>AW</td>\n",
       "      <td>{\"product_specification\"=&gt;[{\"key\"=&gt;\"Ideal For\"...</td>\n",
       "    </tr>\n",
       "    <tr>\n",
       "      <th>3</th>\n",
       "      <td>0973b37acd0c664e3de26e97e5571454</td>\n",
       "      <td>2016-03-25 22:59:23 +0000</td>\n",
       "      <td>http://www.flipkart.com/alisha-solid-women-s-c...</td>\n",
       "      <td>Alisha Solid Women's Cycling Shorts</td>\n",
       "      <td>[\"Clothing &gt;&gt; Women's Clothing &gt;&gt; Lingerie, Sl...</td>\n",
       "      <td>SRTEH2F6HUZMQ6SJ</td>\n",
       "      <td>699.0</td>\n",
       "      <td>267.0</td>\n",
       "      <td>[\"http://img5a.flixcart.com/image/short/6/2/h/...</td>\n",
       "      <td>False</td>\n",
       "      <td>Key Features of Alisha Solid Women's Cycling S...</td>\n",
       "      <td>No rating available</td>\n",
       "      <td>No rating available</td>\n",
       "      <td>Alisha</td>\n",
       "      <td>{\"product_specification\"=&gt;[{\"key\"=&gt;\"Number of ...</td>\n",
       "    </tr>\n",
       "    <tr>\n",
       "      <th>4</th>\n",
       "      <td>bc940ea42ee6bef5ac7cea3fb5cfbee7</td>\n",
       "      <td>2016-03-25 22:59:23 +0000</td>\n",
       "      <td>http://www.flipkart.com/sicons-all-purpose-arn...</td>\n",
       "      <td>Sicons All Purpose Arnica Dog Shampoo</td>\n",
       "      <td>[\"Pet Supplies &gt;&gt; Grooming &gt;&gt; Skin &amp; Coat Care...</td>\n",
       "      <td>PSOEH3ZYDMSYARJ5</td>\n",
       "      <td>220.0</td>\n",
       "      <td>210.0</td>\n",
       "      <td>[\"http://img5a.flixcart.com/image/pet-shampoo/...</td>\n",
       "      <td>False</td>\n",
       "      <td>Specifications of Sicons All Purpose Arnica Do...</td>\n",
       "      <td>No rating available</td>\n",
       "      <td>No rating available</td>\n",
       "      <td>Sicons</td>\n",
       "      <td>{\"product_specification\"=&gt;[{\"key\"=&gt;\"Pet Type\",...</td>\n",
       "    </tr>\n",
       "  </tbody>\n",
       "</table>\n",
       "</div>"
      ],
      "text/plain": [
       "                            uniq_id            crawl_timestamp  \\\n",
       "0  c2d766ca982eca8304150849735ffef9  2016-03-25 22:59:23 +0000   \n",
       "1  7f7036a6d550aaa89d34c77bd39a5e48  2016-03-25 22:59:23 +0000   \n",
       "2  f449ec65dcbc041b6ae5e6a32717d01b  2016-03-25 22:59:23 +0000   \n",
       "3  0973b37acd0c664e3de26e97e5571454  2016-03-25 22:59:23 +0000   \n",
       "4  bc940ea42ee6bef5ac7cea3fb5cfbee7  2016-03-25 22:59:23 +0000   \n",
       "\n",
       "                                         product_url  \\\n",
       "0  http://www.flipkart.com/alisha-solid-women-s-c...   \n",
       "1  http://www.flipkart.com/fabhomedecor-fabric-do...   \n",
       "2  http://www.flipkart.com/aw-bellies/p/itmeh4grg...   \n",
       "3  http://www.flipkart.com/alisha-solid-women-s-c...   \n",
       "4  http://www.flipkart.com/sicons-all-purpose-arn...   \n",
       "\n",
       "                            product_name  \\\n",
       "0    Alisha Solid Women's Cycling Shorts   \n",
       "1    FabHomeDecor Fabric Double Sofa Bed   \n",
       "2                             AW Bellies   \n",
       "3    Alisha Solid Women's Cycling Shorts   \n",
       "4  Sicons All Purpose Arnica Dog Shampoo   \n",
       "\n",
       "                               product_category_tree               pid  \\\n",
       "0  [\"Clothing >> Women's Clothing >> Lingerie, Sl...  SRTEH2FF9KEDEFGF   \n",
       "1  [\"Furniture >> Living Room Furniture >> Sofa B...  SBEEH3QGU7MFYJFY   \n",
       "2  [\"Footwear >> Women's Footwear >> Ballerinas >...  SHOEH4GRSUBJGZXE   \n",
       "3  [\"Clothing >> Women's Clothing >> Lingerie, Sl...  SRTEH2F6HUZMQ6SJ   \n",
       "4  [\"Pet Supplies >> Grooming >> Skin & Coat Care...  PSOEH3ZYDMSYARJ5   \n",
       "\n",
       "   retail_price  discounted_price  \\\n",
       "0         999.0             379.0   \n",
       "1       32157.0           22646.0   \n",
       "2         999.0             499.0   \n",
       "3         699.0             267.0   \n",
       "4         220.0             210.0   \n",
       "\n",
       "                                               image  is_FK_Advantage_product  \\\n",
       "0  [\"http://img5a.flixcart.com/image/short/u/4/a/...                    False   \n",
       "1  [\"http://img6a.flixcart.com/image/sofa-bed/j/f...                    False   \n",
       "2  [\"http://img5a.flixcart.com/image/shoe/7/z/z/r...                    False   \n",
       "3  [\"http://img5a.flixcart.com/image/short/6/2/h/...                    False   \n",
       "4  [\"http://img5a.flixcart.com/image/pet-shampoo/...                    False   \n",
       "\n",
       "                                         description       product_rating  \\\n",
       "0  Key Features of Alisha Solid Women's Cycling S...  No rating available   \n",
       "1  FabHomeDecor Fabric Double Sofa Bed (Finish Co...  No rating available   \n",
       "2  Key Features of AW Bellies Sandals Wedges Heel...  No rating available   \n",
       "3  Key Features of Alisha Solid Women's Cycling S...  No rating available   \n",
       "4  Specifications of Sicons All Purpose Arnica Do...  No rating available   \n",
       "\n",
       "        overall_rating         brand  \\\n",
       "0  No rating available        Alisha   \n",
       "1  No rating available  FabHomeDecor   \n",
       "2  No rating available            AW   \n",
       "3  No rating available        Alisha   \n",
       "4  No rating available        Sicons   \n",
       "\n",
       "                              product_specifications  \n",
       "0  {\"product_specification\"=>[{\"key\"=>\"Number of ...  \n",
       "1  {\"product_specification\"=>[{\"key\"=>\"Installati...  \n",
       "2  {\"product_specification\"=>[{\"key\"=>\"Ideal For\"...  \n",
       "3  {\"product_specification\"=>[{\"key\"=>\"Number of ...  \n",
       "4  {\"product_specification\"=>[{\"key\"=>\"Pet Type\",...  "
      ]
     },
     "execution_count": 4,
     "metadata": {},
     "output_type": "execute_result"
    }
   ],
   "source": [
    "df.head()"
   ]
  },
  {
   "cell_type": "markdown",
   "metadata": {},
   "source": [
    "### Remove Duplicate Title Value"
   ]
  },
  {
   "cell_type": "code",
   "execution_count": null,
   "metadata": {},
   "outputs": [],
   "source": [
    "df = df.drop_duplicates(subset=\"product_name\", keep=\"last\")"
   ]
  },
  {
   "cell_type": "code",
   "execution_count": null,
   "metadata": {},
   "outputs": [
    {
     "data": {
      "text/plain": [
       "12676"
      ]
     },
     "execution_count": 6,
     "metadata": {},
     "output_type": "execute_result"
    }
   ],
   "source": [
    "len(df)"
   ]
  },
  {
   "cell_type": "code",
   "execution_count": null,
   "metadata": {},
   "outputs": [
    {
     "data": {
      "text/plain": [
       "12676"
      ]
     },
     "execution_count": 7,
     "metadata": {},
     "output_type": "execute_result"
    }
   ],
   "source": [
    "len(df[\"product_category_tree\"])"
   ]
  },
  {
   "cell_type": "code",
   "execution_count": null,
   "metadata": {},
   "outputs": [
    {
     "data": {
      "text/html": [
       "<div>\n",
       "<style scoped>\n",
       "    .dataframe tbody tr th:only-of-type {\n",
       "        vertical-align: middle;\n",
       "    }\n",
       "\n",
       "    .dataframe tbody tr th {\n",
       "        vertical-align: top;\n",
       "    }\n",
       "\n",
       "    .dataframe thead th {\n",
       "        text-align: right;\n",
       "    }\n",
       "</style>\n",
       "<table border=\"1\" class=\"dataframe\">\n",
       "  <thead>\n",
       "    <tr style=\"text-align: right;\">\n",
       "      <th></th>\n",
       "      <th>uniq_id</th>\n",
       "      <th>crawl_timestamp</th>\n",
       "      <th>product_url</th>\n",
       "      <th>product_name</th>\n",
       "      <th>product_category_tree</th>\n",
       "      <th>pid</th>\n",
       "      <th>retail_price</th>\n",
       "      <th>discounted_price</th>\n",
       "      <th>image</th>\n",
       "      <th>is_FK_Advantage_product</th>\n",
       "      <th>description</th>\n",
       "      <th>product_rating</th>\n",
       "      <th>overall_rating</th>\n",
       "      <th>brand</th>\n",
       "      <th>product_specifications</th>\n",
       "    </tr>\n",
       "  </thead>\n",
       "  <tbody>\n",
       "    <tr>\n",
       "      <th>2</th>\n",
       "      <td>f449ec65dcbc041b6ae5e6a32717d01b</td>\n",
       "      <td>2016-03-25 22:59:23 +0000</td>\n",
       "      <td>http://www.flipkart.com/aw-bellies/p/itmeh4grg...</td>\n",
       "      <td>AW Bellies</td>\n",
       "      <td>[\"Footwear &gt;&gt; Women's Footwear &gt;&gt; Ballerinas &gt;...</td>\n",
       "      <td>SHOEH4GRSUBJGZXE</td>\n",
       "      <td>999.0</td>\n",
       "      <td>499.0</td>\n",
       "      <td>[\"http://img5a.flixcart.com/image/shoe/7/z/z/r...</td>\n",
       "      <td>False</td>\n",
       "      <td>Key Features of AW Bellies Sandals Wedges Heel...</td>\n",
       "      <td>No rating available</td>\n",
       "      <td>No rating available</td>\n",
       "      <td>AW</td>\n",
       "      <td>{\"product_specification\"=&gt;[{\"key\"=&gt;\"Ideal For\"...</td>\n",
       "    </tr>\n",
       "    <tr>\n",
       "      <th>4</th>\n",
       "      <td>bc940ea42ee6bef5ac7cea3fb5cfbee7</td>\n",
       "      <td>2016-03-25 22:59:23 +0000</td>\n",
       "      <td>http://www.flipkart.com/sicons-all-purpose-arn...</td>\n",
       "      <td>Sicons All Purpose Arnica Dog Shampoo</td>\n",
       "      <td>[\"Pet Supplies &gt;&gt; Grooming &gt;&gt; Skin &amp; Coat Care...</td>\n",
       "      <td>PSOEH3ZYDMSYARJ5</td>\n",
       "      <td>220.0</td>\n",
       "      <td>210.0</td>\n",
       "      <td>[\"http://img5a.flixcart.com/image/pet-shampoo/...</td>\n",
       "      <td>False</td>\n",
       "      <td>Specifications of Sicons All Purpose Arnica Do...</td>\n",
       "      <td>No rating available</td>\n",
       "      <td>No rating available</td>\n",
       "      <td>Sicons</td>\n",
       "      <td>{\"product_specification\"=&gt;[{\"key\"=&gt;\"Pet Type\",...</td>\n",
       "    </tr>\n",
       "    <tr>\n",
       "      <th>5</th>\n",
       "      <td>c2a17313954882c1dba461863e98adf2</td>\n",
       "      <td>2016-03-25 22:59:23 +0000</td>\n",
       "      <td>http://www.flipkart.com/eternal-gandhi-super-s...</td>\n",
       "      <td>Eternal Gandhi Super Series Crystal Paper Weig...</td>\n",
       "      <td>[\"Eternal Gandhi Super Series Crystal Paper We...</td>\n",
       "      <td>PWTEB7H2E4KCYUE3</td>\n",
       "      <td>430.0</td>\n",
       "      <td>430.0</td>\n",
       "      <td>[\"http://img5a.flixcart.com/image/paper-weight...</td>\n",
       "      <td>False</td>\n",
       "      <td>Key Features of Eternal Gandhi Super Series Cr...</td>\n",
       "      <td>No rating available</td>\n",
       "      <td>No rating available</td>\n",
       "      <td>Eternal Gandhi</td>\n",
       "      <td>{\"product_specification\"=&gt;[{\"key\"=&gt;\"Model Name...</td>\n",
       "    </tr>\n",
       "    <tr>\n",
       "      <th>8</th>\n",
       "      <td>29c8d290caa451f97b1c32df64477a2c</td>\n",
       "      <td>2016-03-25 22:59:23 +0000</td>\n",
       "      <td>http://www.flipkart.com/dilli-bazaaar-bellies-...</td>\n",
       "      <td>dilli bazaaar Bellies, Corporate Casuals, Casuals</td>\n",
       "      <td>[\"Footwear &gt;&gt; Women's Footwear &gt;&gt; Ballerinas &gt;...</td>\n",
       "      <td>SHOEH3DZBFR88SCK</td>\n",
       "      <td>699.0</td>\n",
       "      <td>349.0</td>\n",
       "      <td>[\"http://img6a.flixcart.com/image/shoe/b/p/n/p...</td>\n",
       "      <td>False</td>\n",
       "      <td>Key Features of dilli bazaaar Bellies, Corpora...</td>\n",
       "      <td>No rating available</td>\n",
       "      <td>No rating available</td>\n",
       "      <td>dilli bazaaar</td>\n",
       "      <td>{\"product_specification\"=&gt;[{\"key\"=&gt;\"Occasion\",...</td>\n",
       "    </tr>\n",
       "    <tr>\n",
       "      <th>10</th>\n",
       "      <td>e54bc0a7c3429da2ebef0b30331fe3d2</td>\n",
       "      <td>2016-03-25 22:59:23 +0000</td>\n",
       "      <td>http://www.flipkart.com/ladela-bellies/p/itmeh...</td>\n",
       "      <td>Ladela Bellies</td>\n",
       "      <td>[\"Footwear &gt;&gt; Women's Footwear &gt;&gt; Ballerinas &gt;...</td>\n",
       "      <td>SHOEH4KM2W3Z6EH5</td>\n",
       "      <td>1724.0</td>\n",
       "      <td>950.0</td>\n",
       "      <td>[\"http://img5a.flixcart.com/image/shoe/s/g/m/b...</td>\n",
       "      <td>False</td>\n",
       "      <td>Key Features of Ladela Bellies Brand: LADELA C...</td>\n",
       "      <td>5</td>\n",
       "      <td>5</td>\n",
       "      <td>Ladela</td>\n",
       "      <td>{\"product_specification\"=&gt;[{\"key\"=&gt;\"Occasion\",...</td>\n",
       "    </tr>\n",
       "  </tbody>\n",
       "</table>\n",
       "</div>"
      ],
      "text/plain": [
       "                             uniq_id            crawl_timestamp  \\\n",
       "2   f449ec65dcbc041b6ae5e6a32717d01b  2016-03-25 22:59:23 +0000   \n",
       "4   bc940ea42ee6bef5ac7cea3fb5cfbee7  2016-03-25 22:59:23 +0000   \n",
       "5   c2a17313954882c1dba461863e98adf2  2016-03-25 22:59:23 +0000   \n",
       "8   29c8d290caa451f97b1c32df64477a2c  2016-03-25 22:59:23 +0000   \n",
       "10  e54bc0a7c3429da2ebef0b30331fe3d2  2016-03-25 22:59:23 +0000   \n",
       "\n",
       "                                          product_url  \\\n",
       "2   http://www.flipkart.com/aw-bellies/p/itmeh4grg...   \n",
       "4   http://www.flipkart.com/sicons-all-purpose-arn...   \n",
       "5   http://www.flipkart.com/eternal-gandhi-super-s...   \n",
       "8   http://www.flipkart.com/dilli-bazaaar-bellies-...   \n",
       "10  http://www.flipkart.com/ladela-bellies/p/itmeh...   \n",
       "\n",
       "                                         product_name  \\\n",
       "2                                          AW Bellies   \n",
       "4               Sicons All Purpose Arnica Dog Shampoo   \n",
       "5   Eternal Gandhi Super Series Crystal Paper Weig...   \n",
       "8   dilli bazaaar Bellies, Corporate Casuals, Casuals   \n",
       "10                                     Ladela Bellies   \n",
       "\n",
       "                                product_category_tree               pid  \\\n",
       "2   [\"Footwear >> Women's Footwear >> Ballerinas >...  SHOEH4GRSUBJGZXE   \n",
       "4   [\"Pet Supplies >> Grooming >> Skin & Coat Care...  PSOEH3ZYDMSYARJ5   \n",
       "5   [\"Eternal Gandhi Super Series Crystal Paper We...  PWTEB7H2E4KCYUE3   \n",
       "8   [\"Footwear >> Women's Footwear >> Ballerinas >...  SHOEH3DZBFR88SCK   \n",
       "10  [\"Footwear >> Women's Footwear >> Ballerinas >...  SHOEH4KM2W3Z6EH5   \n",
       "\n",
       "    retail_price  discounted_price  \\\n",
       "2          999.0             499.0   \n",
       "4          220.0             210.0   \n",
       "5          430.0             430.0   \n",
       "8          699.0             349.0   \n",
       "10        1724.0             950.0   \n",
       "\n",
       "                                                image  \\\n",
       "2   [\"http://img5a.flixcart.com/image/shoe/7/z/z/r...   \n",
       "4   [\"http://img5a.flixcart.com/image/pet-shampoo/...   \n",
       "5   [\"http://img5a.flixcart.com/image/paper-weight...   \n",
       "8   [\"http://img6a.flixcart.com/image/shoe/b/p/n/p...   \n",
       "10  [\"http://img5a.flixcart.com/image/shoe/s/g/m/b...   \n",
       "\n",
       "    is_FK_Advantage_product  \\\n",
       "2                     False   \n",
       "4                     False   \n",
       "5                     False   \n",
       "8                     False   \n",
       "10                    False   \n",
       "\n",
       "                                          description       product_rating  \\\n",
       "2   Key Features of AW Bellies Sandals Wedges Heel...  No rating available   \n",
       "4   Specifications of Sicons All Purpose Arnica Do...  No rating available   \n",
       "5   Key Features of Eternal Gandhi Super Series Cr...  No rating available   \n",
       "8   Key Features of dilli bazaaar Bellies, Corpora...  No rating available   \n",
       "10  Key Features of Ladela Bellies Brand: LADELA C...                    5   \n",
       "\n",
       "         overall_rating           brand  \\\n",
       "2   No rating available              AW   \n",
       "4   No rating available          Sicons   \n",
       "5   No rating available  Eternal Gandhi   \n",
       "8   No rating available   dilli bazaaar   \n",
       "10                    5          Ladela   \n",
       "\n",
       "                               product_specifications  \n",
       "2   {\"product_specification\"=>[{\"key\"=>\"Ideal For\"...  \n",
       "4   {\"product_specification\"=>[{\"key\"=>\"Pet Type\",...  \n",
       "5   {\"product_specification\"=>[{\"key\"=>\"Model Name...  \n",
       "8   {\"product_specification\"=>[{\"key\"=>\"Occasion\",...  \n",
       "10  {\"product_specification\"=>[{\"key\"=>\"Occasion\",...  "
      ]
     },
     "execution_count": 8,
     "metadata": {},
     "output_type": "execute_result"
    }
   ],
   "source": [
    "df.head()"
   ]
  },
  {
   "cell_type": "markdown",
   "metadata": {},
   "source": [
    "### Re Structure Category"
   ]
  },
  {
   "cell_type": "code",
   "execution_count": null,
   "metadata": {},
   "outputs": [],
   "source": [
    "df[\"product_category_tree\"] = (\n",
    "    df[\"product_category_tree\"]\n",
    "    .str.lower()\n",
    "    .str.replace(r\"[^\\w\\s>]\", \"\", regex=True)\n",
    "    .str.replace(\">>\", \">\", regex=False)\n",
    "    .str.split(\">\")\n",
    "    .apply(lambda x: [i.strip().replace('\"', \"\") for i in x])\n",
    ")"
   ]
  },
  {
   "cell_type": "code",
   "execution_count": null,
   "metadata": {},
   "outputs": [
    {
     "data": {
      "text/html": [
       "<div>\n",
       "<style scoped>\n",
       "    .dataframe tbody tr th:only-of-type {\n",
       "        vertical-align: middle;\n",
       "    }\n",
       "\n",
       "    .dataframe tbody tr th {\n",
       "        vertical-align: top;\n",
       "    }\n",
       "\n",
       "    .dataframe thead th {\n",
       "        text-align: right;\n",
       "    }\n",
       "</style>\n",
       "<table border=\"1\" class=\"dataframe\">\n",
       "  <thead>\n",
       "    <tr style=\"text-align: right;\">\n",
       "      <th></th>\n",
       "      <th>uniq_id</th>\n",
       "      <th>crawl_timestamp</th>\n",
       "      <th>product_url</th>\n",
       "      <th>product_name</th>\n",
       "      <th>product_category_tree</th>\n",
       "      <th>pid</th>\n",
       "      <th>retail_price</th>\n",
       "      <th>discounted_price</th>\n",
       "      <th>image</th>\n",
       "      <th>is_FK_Advantage_product</th>\n",
       "      <th>description</th>\n",
       "      <th>product_rating</th>\n",
       "      <th>overall_rating</th>\n",
       "      <th>brand</th>\n",
       "      <th>product_specifications</th>\n",
       "    </tr>\n",
       "  </thead>\n",
       "  <tbody>\n",
       "    <tr>\n",
       "      <th>2</th>\n",
       "      <td>f449ec65dcbc041b6ae5e6a32717d01b</td>\n",
       "      <td>2016-03-25 22:59:23 +0000</td>\n",
       "      <td>http://www.flipkart.com/aw-bellies/p/itmeh4grg...</td>\n",
       "      <td>AW Bellies</td>\n",
       "      <td>[footwear, womens footwear, ballerinas, aw bel...</td>\n",
       "      <td>SHOEH4GRSUBJGZXE</td>\n",
       "      <td>999.0</td>\n",
       "      <td>499.0</td>\n",
       "      <td>[\"http://img5a.flixcart.com/image/shoe/7/z/z/r...</td>\n",
       "      <td>False</td>\n",
       "      <td>Key Features of AW Bellies Sandals Wedges Heel...</td>\n",
       "      <td>No rating available</td>\n",
       "      <td>No rating available</td>\n",
       "      <td>AW</td>\n",
       "      <td>{\"product_specification\"=&gt;[{\"key\"=&gt;\"Ideal For\"...</td>\n",
       "    </tr>\n",
       "  </tbody>\n",
       "</table>\n",
       "</div>"
      ],
      "text/plain": [
       "                            uniq_id            crawl_timestamp  \\\n",
       "2  f449ec65dcbc041b6ae5e6a32717d01b  2016-03-25 22:59:23 +0000   \n",
       "\n",
       "                                         product_url product_name  \\\n",
       "2  http://www.flipkart.com/aw-bellies/p/itmeh4grg...   AW Bellies   \n",
       "\n",
       "                               product_category_tree               pid  \\\n",
       "2  [footwear, womens footwear, ballerinas, aw bel...  SHOEH4GRSUBJGZXE   \n",
       "\n",
       "   retail_price  discounted_price  \\\n",
       "2         999.0             499.0   \n",
       "\n",
       "                                               image  is_FK_Advantage_product  \\\n",
       "2  [\"http://img5a.flixcart.com/image/shoe/7/z/z/r...                    False   \n",
       "\n",
       "                                         description       product_rating  \\\n",
       "2  Key Features of AW Bellies Sandals Wedges Heel...  No rating available   \n",
       "\n",
       "        overall_rating brand  \\\n",
       "2  No rating available    AW   \n",
       "\n",
       "                              product_specifications  \n",
       "2  {\"product_specification\"=>[{\"key\"=>\"Ideal For\"...  "
      ]
     },
     "execution_count": 10,
     "metadata": {},
     "output_type": "execute_result"
    }
   ],
   "source": [
    "df.head(1)"
   ]
  },
  {
   "cell_type": "code",
   "execution_count": null,
   "metadata": {},
   "outputs": [
    {
     "data": {
      "text/plain": [
       "['footwear', 'womens footwear', 'ballerinas', 'aw bellies']"
      ]
     },
     "execution_count": 11,
     "metadata": {},
     "output_type": "execute_result"
    }
   ],
   "source": [
    "df[\"product_category_tree\"][2]"
   ]
  },
  {
   "cell_type": "markdown",
   "metadata": {},
   "source": [
    "### Transform Specification"
   ]
  },
  {
   "cell_type": "code",
   "execution_count": null,
   "metadata": {},
   "outputs": [
    {
     "data": {
      "text/plain": [
       "'{\"product_specification\"=>[{\"key\"=>\"Ideal For\", \"value\"=>\"Women\"}, {\"key\"=>\"Occasion\", \"value\"=>\"Casual\"}, {\"key\"=>\"Color\", \"value\"=>\"Red\"}, {\"key\"=>\"Outer Material\", \"value\"=>\"Patent Leather\"}, {\"key\"=>\"Heel Height\", \"value\"=>\"1 inch\"}, {\"key\"=>\"Number of Contents in Sales Package\", \"value\"=>\"Pack of 1\"}, {\"value\"=>\"One Pair Of Shoes\"}]}'"
      ]
     },
     "execution_count": 12,
     "metadata": {},
     "output_type": "execute_result"
    }
   ],
   "source": [
    "df[\"product_specifications\"][2]"
   ]
  },
  {
   "cell_type": "code",
   "execution_count": null,
   "metadata": {},
   "outputs": [],
   "source": [
    "df[\"product_specifications\"] = df[\"product_specifications\"].apply(\n",
    "    lambda x: x.replace(\"=>\", \":\") if isinstance(x, str) else x\n",
    ")"
   ]
  },
  {
   "cell_type": "code",
   "execution_count": null,
   "metadata": {},
   "outputs": [
    {
     "data": {
      "text/plain": [
       "'{\"product_specification\":[{\"key\":\"Ideal For\", \"value\":\"Women\"}, {\"key\":\"Occasion\", \"value\":\"Casual\"}, {\"key\":\"Color\", \"value\":\"Red\"}, {\"key\":\"Outer Material\", \"value\":\"Patent Leather\"}, {\"key\":\"Heel Height\", \"value\":\"1 inch\"}, {\"key\":\"Number of Contents in Sales Package\", \"value\":\"Pack of 1\"}, {\"value\":\"One Pair Of Shoes\"}]}'"
      ]
     },
     "execution_count": 14,
     "metadata": {},
     "output_type": "execute_result"
    }
   ],
   "source": [
    "df[\"product_specifications\"][2]"
   ]
  },
  {
   "cell_type": "code",
   "execution_count": null,
   "metadata": {},
   "outputs": [],
   "source": [
    "def parse_json(x):\n",
    "    if isinstance(x, str):\n",
    "        try:\n",
    "            return json.loads(x).get(\"product_specification\", [])\n",
    "        except json.JSONDecodeError:\n",
    "            return [] \n",
    "    return [] "
   ]
  },
  {
   "cell_type": "code",
   "execution_count": null,
   "metadata": {},
   "outputs": [],
   "source": [
    "df[\"product_specifications\"] = df[\"product_specifications\"].apply(parse_json)"
   ]
  },
  {
   "cell_type": "code",
   "execution_count": null,
   "metadata": {},
   "outputs": [
    {
     "data": {
      "text/plain": [
       "[{'key': 'Ideal For', 'value': 'Women'},\n",
       " {'key': 'Occasion', 'value': 'Casual'},\n",
       " {'key': 'Color', 'value': 'Red'},\n",
       " {'key': 'Outer Material', 'value': 'Patent Leather'},\n",
       " {'key': 'Heel Height', 'value': '1 inch'},\n",
       " {'key': 'Number of Contents in Sales Package', 'value': 'Pack of 1'},\n",
       " {'value': 'One Pair Of Shoes'}]"
      ]
     },
     "execution_count": 17,
     "metadata": {},
     "output_type": "execute_result"
    }
   ],
   "source": [
    "df[\"product_specifications\"][2]"
   ]
  },
  {
   "cell_type": "code",
   "execution_count": null,
   "metadata": {},
   "outputs": [
    {
     "data": {
      "text/plain": [
       "2     [{'key': 'Ideal For', 'value': 'Women'}, {'key...\n",
       "4     [{'key': 'Pet Type', 'value': 'Dog'}, {'key': ...\n",
       "5     [{'key': 'Model Name', 'value': 'Gandhi Paper ...\n",
       "8     [{'key': 'Occasion', 'value': 'Ethnic, Casual,...\n",
       "10    [{'key': 'Occasion', 'value': 'Casual'}, {'key...\n",
       "Name: product_specifications, dtype: object"
      ]
     },
     "execution_count": 18,
     "metadata": {},
     "output_type": "execute_result"
    }
   ],
   "source": [
    "df[\"product_specifications\"].head()"
   ]
  },
  {
   "cell_type": "code",
   "execution_count": null,
   "metadata": {},
   "outputs": [],
   "source": [
    "def format_specifications(spec_list):\n",
    "    return \", \".join(\n",
    "        [\n",
    "            f\"{spec['key']}: {spec['value']}\"\n",
    "            for spec in spec_list\n",
    "            if \"key\" in spec and \"value\" in spec\n",
    "        ]\n",
    "    )"
   ]
  },
  {
   "cell_type": "code",
   "execution_count": null,
   "metadata": {},
   "outputs": [],
   "source": [
    "df[\"formatted_specifications\"] = df[\"product_specifications\"].apply(\n",
    "    format_specifications\n",
    ")"
   ]
  },
  {
   "cell_type": "code",
   "execution_count": null,
   "metadata": {},
   "outputs": [
    {
     "data": {
      "text/plain": [
       "'Ideal For: Women, Occasion: Casual, Color: Red, Outer Material: Patent Leather, Heel Height: 1 inch, Number of Contents in Sales Package: Pack of 1'"
      ]
     },
     "execution_count": 21,
     "metadata": {},
     "output_type": "execute_result"
    }
   ],
   "source": [
    "df[\"formatted_specifications\"][2]"
   ]
  },
  {
   "cell_type": "code",
   "execution_count": null,
   "metadata": {},
   "outputs": [
    {
     "data": {
      "text/plain": [
       "2     [{'key': 'Ideal For', 'value': 'Women'}, {'key...\n",
       "4     [{'key': 'Pet Type', 'value': 'Dog'}, {'key': ...\n",
       "5     [{'key': 'Model Name', 'value': 'Gandhi Paper ...\n",
       "8     [{'key': 'Occasion', 'value': 'Ethnic, Casual,...\n",
       "10    [{'key': 'Occasion', 'value': 'Casual'}, {'key...\n",
       "Name: product_specifications, dtype: object"
      ]
     },
     "execution_count": 23,
     "metadata": {},
     "output_type": "execute_result"
    }
   ],
   "source": [
    "df[\"product_specifications\"].head()"
   ]
  },
  {
   "cell_type": "code",
   "execution_count": null,
   "metadata": {},
   "outputs": [
    {
     "data": {
      "text/plain": [
       "2     Ideal For: Women, Occasion: Casual, Color: Red...\n",
       "4     Pet Type: Dog, Brand: Sicons, Quantity: 500 ml...\n",
       "5     Model Name: Gandhi Paper Weight Mark V, Weight...\n",
       "8     Occasion: Ethnic, Casual, Party, Formal, Ideal...\n",
       "10    Occasion: Casual, Ideal For: Women, Heel Heigh...\n",
       "Name: formatted_specifications, dtype: object"
      ]
     },
     "execution_count": 24,
     "metadata": {},
     "output_type": "execute_result"
    }
   ],
   "source": [
    "df[\"formatted_specifications\"].head()"
   ]
  },
  {
   "cell_type": "markdown",
   "metadata": {},
   "source": [
    "### String Transformation"
   ]
  },
  {
   "cell_type": "code",
   "execution_count": null,
   "metadata": {},
   "outputs": [
    {
     "data": {
      "text/html": [
       "<div>\n",
       "<style scoped>\n",
       "    .dataframe tbody tr th:only-of-type {\n",
       "        vertical-align: middle;\n",
       "    }\n",
       "\n",
       "    .dataframe tbody tr th {\n",
       "        vertical-align: top;\n",
       "    }\n",
       "\n",
       "    .dataframe thead th {\n",
       "        text-align: right;\n",
       "    }\n",
       "</style>\n",
       "<table border=\"1\" class=\"dataframe\">\n",
       "  <thead>\n",
       "    <tr style=\"text-align: right;\">\n",
       "      <th></th>\n",
       "      <th>uniq_id</th>\n",
       "      <th>crawl_timestamp</th>\n",
       "      <th>product_url</th>\n",
       "      <th>product_name</th>\n",
       "      <th>product_category_tree</th>\n",
       "      <th>pid</th>\n",
       "      <th>retail_price</th>\n",
       "      <th>discounted_price</th>\n",
       "      <th>image</th>\n",
       "      <th>is_FK_Advantage_product</th>\n",
       "      <th>description</th>\n",
       "      <th>product_rating</th>\n",
       "      <th>overall_rating</th>\n",
       "      <th>brand</th>\n",
       "      <th>product_specifications</th>\n",
       "      <th>formatted_specifications</th>\n",
       "    </tr>\n",
       "  </thead>\n",
       "  <tbody>\n",
       "    <tr>\n",
       "      <th>2</th>\n",
       "      <td>f449ec65dcbc041b6ae5e6a32717d01b</td>\n",
       "      <td>2016-03-25 22:59:23 +0000</td>\n",
       "      <td>http://www.flipkart.com/aw-bellies/p/itmeh4grg...</td>\n",
       "      <td>AW Bellies</td>\n",
       "      <td>[footwear, womens footwear, ballerinas, aw bel...</td>\n",
       "      <td>SHOEH4GRSUBJGZXE</td>\n",
       "      <td>999.0</td>\n",
       "      <td>499.0</td>\n",
       "      <td>[\"http://img5a.flixcart.com/image/shoe/7/z/z/r...</td>\n",
       "      <td>False</td>\n",
       "      <td>Key Features of AW Bellies Sandals Wedges Heel...</td>\n",
       "      <td>No rating available</td>\n",
       "      <td>No rating available</td>\n",
       "      <td>AW</td>\n",
       "      <td>[{'key': 'Ideal For', 'value': 'Women'}, {'key...</td>\n",
       "      <td>Ideal For: Women, Occasion: Casual, Color: Red...</td>\n",
       "    </tr>\n",
       "  </tbody>\n",
       "</table>\n",
       "</div>"
      ],
      "text/plain": [
       "                            uniq_id            crawl_timestamp  \\\n",
       "2  f449ec65dcbc041b6ae5e6a32717d01b  2016-03-25 22:59:23 +0000   \n",
       "\n",
       "                                         product_url product_name  \\\n",
       "2  http://www.flipkart.com/aw-bellies/p/itmeh4grg...   AW Bellies   \n",
       "\n",
       "                               product_category_tree               pid  \\\n",
       "2  [footwear, womens footwear, ballerinas, aw bel...  SHOEH4GRSUBJGZXE   \n",
       "\n",
       "   retail_price  discounted_price  \\\n",
       "2         999.0             499.0   \n",
       "\n",
       "                                               image  is_FK_Advantage_product  \\\n",
       "2  [\"http://img5a.flixcart.com/image/shoe/7/z/z/r...                    False   \n",
       "\n",
       "                                         description       product_rating  \\\n",
       "2  Key Features of AW Bellies Sandals Wedges Heel...  No rating available   \n",
       "\n",
       "        overall_rating brand  \\\n",
       "2  No rating available    AW   \n",
       "\n",
       "                              product_specifications  \\\n",
       "2  [{'key': 'Ideal For', 'value': 'Women'}, {'key...   \n",
       "\n",
       "                            formatted_specifications  \n",
       "2  Ideal For: Women, Occasion: Casual, Color: Red...  "
      ]
     },
     "execution_count": 26,
     "metadata": {},
     "output_type": "execute_result"
    }
   ],
   "source": [
    "df.head(1)"
   ]
  },
  {
   "cell_type": "code",
   "execution_count": null,
   "metadata": {},
   "outputs": [],
   "source": [
    "string_cols_to_lower = [\n",
    "    \"product_name\",\n",
    "    \"description\",\n",
    "    \"brand\",\n",
    "    \"formatted_specifications\",\n",
    "]"
   ]
  },
  {
   "cell_type": "code",
   "execution_count": null,
   "metadata": {},
   "outputs": [],
   "source": [
    "for col in string_cols_to_lower:\n",
    "    if col in df.columns:\n",
    "        df[col] = df[col].apply(lambda x: x.lower() if isinstance(x, str) else x)"
   ]
  },
  {
   "cell_type": "code",
   "execution_count": null,
   "metadata": {},
   "outputs": [
    {
     "data": {
      "text/html": [
       "<div>\n",
       "<style scoped>\n",
       "    .dataframe tbody tr th:only-of-type {\n",
       "        vertical-align: middle;\n",
       "    }\n",
       "\n",
       "    .dataframe tbody tr th {\n",
       "        vertical-align: top;\n",
       "    }\n",
       "\n",
       "    .dataframe thead th {\n",
       "        text-align: right;\n",
       "    }\n",
       "</style>\n",
       "<table border=\"1\" class=\"dataframe\">\n",
       "  <thead>\n",
       "    <tr style=\"text-align: right;\">\n",
       "      <th></th>\n",
       "      <th>uniq_id</th>\n",
       "      <th>crawl_timestamp</th>\n",
       "      <th>product_url</th>\n",
       "      <th>product_name</th>\n",
       "      <th>product_category_tree</th>\n",
       "      <th>pid</th>\n",
       "      <th>retail_price</th>\n",
       "      <th>discounted_price</th>\n",
       "      <th>image</th>\n",
       "      <th>is_FK_Advantage_product</th>\n",
       "      <th>description</th>\n",
       "      <th>product_rating</th>\n",
       "      <th>overall_rating</th>\n",
       "      <th>brand</th>\n",
       "      <th>product_specifications</th>\n",
       "      <th>formatted_specifications</th>\n",
       "    </tr>\n",
       "  </thead>\n",
       "  <tbody>\n",
       "    <tr>\n",
       "      <th>2</th>\n",
       "      <td>f449ec65dcbc041b6ae5e6a32717d01b</td>\n",
       "      <td>2016-03-25 22:59:23 +0000</td>\n",
       "      <td>http://www.flipkart.com/aw-bellies/p/itmeh4grg...</td>\n",
       "      <td>aw bellies</td>\n",
       "      <td>[footwear, womens footwear, ballerinas, aw bel...</td>\n",
       "      <td>SHOEH4GRSUBJGZXE</td>\n",
       "      <td>999.0</td>\n",
       "      <td>499.0</td>\n",
       "      <td>[\"http://img5a.flixcart.com/image/shoe/7/z/z/r...</td>\n",
       "      <td>False</td>\n",
       "      <td>key features of aw bellies sandals wedges heel...</td>\n",
       "      <td>No rating available</td>\n",
       "      <td>No rating available</td>\n",
       "      <td>aw</td>\n",
       "      <td>[{'key': 'Ideal For', 'value': 'Women'}, {'key...</td>\n",
       "      <td>ideal for: women, occasion: casual, color: red...</td>\n",
       "    </tr>\n",
       "    <tr>\n",
       "      <th>4</th>\n",
       "      <td>bc940ea42ee6bef5ac7cea3fb5cfbee7</td>\n",
       "      <td>2016-03-25 22:59:23 +0000</td>\n",
       "      <td>http://www.flipkart.com/sicons-all-purpose-arn...</td>\n",
       "      <td>sicons all purpose arnica dog shampoo</td>\n",
       "      <td>[pet supplies, grooming, skin  coat care, sham...</td>\n",
       "      <td>PSOEH3ZYDMSYARJ5</td>\n",
       "      <td>220.0</td>\n",
       "      <td>210.0</td>\n",
       "      <td>[\"http://img5a.flixcart.com/image/pet-shampoo/...</td>\n",
       "      <td>False</td>\n",
       "      <td>specifications of sicons all purpose arnica do...</td>\n",
       "      <td>No rating available</td>\n",
       "      <td>No rating available</td>\n",
       "      <td>sicons</td>\n",
       "      <td>[{'key': 'Pet Type', 'value': 'Dog'}, {'key': ...</td>\n",
       "      <td>pet type: dog, brand: sicons, quantity: 500 ml...</td>\n",
       "    </tr>\n",
       "    <tr>\n",
       "      <th>5</th>\n",
       "      <td>c2a17313954882c1dba461863e98adf2</td>\n",
       "      <td>2016-03-25 22:59:23 +0000</td>\n",
       "      <td>http://www.flipkart.com/eternal-gandhi-super-s...</td>\n",
       "      <td>eternal gandhi super series crystal paper weig...</td>\n",
       "      <td>[eternal gandhi super series crystal paper wei...</td>\n",
       "      <td>PWTEB7H2E4KCYUE3</td>\n",
       "      <td>430.0</td>\n",
       "      <td>430.0</td>\n",
       "      <td>[\"http://img5a.flixcart.com/image/paper-weight...</td>\n",
       "      <td>False</td>\n",
       "      <td>key features of eternal gandhi super series cr...</td>\n",
       "      <td>No rating available</td>\n",
       "      <td>No rating available</td>\n",
       "      <td>eternal gandhi</td>\n",
       "      <td>[{'key': 'Model Name', 'value': 'Gandhi Paper ...</td>\n",
       "      <td>model name: gandhi paper weight mark v, weight...</td>\n",
       "    </tr>\n",
       "    <tr>\n",
       "      <th>8</th>\n",
       "      <td>29c8d290caa451f97b1c32df64477a2c</td>\n",
       "      <td>2016-03-25 22:59:23 +0000</td>\n",
       "      <td>http://www.flipkart.com/dilli-bazaaar-bellies-...</td>\n",
       "      <td>dilli bazaaar bellies, corporate casuals, casuals</td>\n",
       "      <td>[footwear, womens footwear, ballerinas, dilli ...</td>\n",
       "      <td>SHOEH3DZBFR88SCK</td>\n",
       "      <td>699.0</td>\n",
       "      <td>349.0</td>\n",
       "      <td>[\"http://img6a.flixcart.com/image/shoe/b/p/n/p...</td>\n",
       "      <td>False</td>\n",
       "      <td>key features of dilli bazaaar bellies, corpora...</td>\n",
       "      <td>No rating available</td>\n",
       "      <td>No rating available</td>\n",
       "      <td>dilli bazaaar</td>\n",
       "      <td>[{'key': 'Occasion', 'value': 'Ethnic, Casual,...</td>\n",
       "      <td>occasion: ethnic, casual, party, formal, ideal...</td>\n",
       "    </tr>\n",
       "    <tr>\n",
       "      <th>10</th>\n",
       "      <td>e54bc0a7c3429da2ebef0b30331fe3d2</td>\n",
       "      <td>2016-03-25 22:59:23 +0000</td>\n",
       "      <td>http://www.flipkart.com/ladela-bellies/p/itmeh...</td>\n",
       "      <td>ladela bellies</td>\n",
       "      <td>[footwear, womens footwear, ballerinas, ladela...</td>\n",
       "      <td>SHOEH4KM2W3Z6EH5</td>\n",
       "      <td>1724.0</td>\n",
       "      <td>950.0</td>\n",
       "      <td>[\"http://img5a.flixcart.com/image/shoe/s/g/m/b...</td>\n",
       "      <td>False</td>\n",
       "      <td>key features of ladela bellies brand: ladela c...</td>\n",
       "      <td>5</td>\n",
       "      <td>5</td>\n",
       "      <td>ladela</td>\n",
       "      <td>[{'key': 'Occasion', 'value': 'Casual'}, {'key...</td>\n",
       "      <td>occasion: casual, ideal for: women, heel heigh...</td>\n",
       "    </tr>\n",
       "  </tbody>\n",
       "</table>\n",
       "</div>"
      ],
      "text/plain": [
       "                             uniq_id            crawl_timestamp  \\\n",
       "2   f449ec65dcbc041b6ae5e6a32717d01b  2016-03-25 22:59:23 +0000   \n",
       "4   bc940ea42ee6bef5ac7cea3fb5cfbee7  2016-03-25 22:59:23 +0000   \n",
       "5   c2a17313954882c1dba461863e98adf2  2016-03-25 22:59:23 +0000   \n",
       "8   29c8d290caa451f97b1c32df64477a2c  2016-03-25 22:59:23 +0000   \n",
       "10  e54bc0a7c3429da2ebef0b30331fe3d2  2016-03-25 22:59:23 +0000   \n",
       "\n",
       "                                          product_url  \\\n",
       "2   http://www.flipkart.com/aw-bellies/p/itmeh4grg...   \n",
       "4   http://www.flipkart.com/sicons-all-purpose-arn...   \n",
       "5   http://www.flipkart.com/eternal-gandhi-super-s...   \n",
       "8   http://www.flipkart.com/dilli-bazaaar-bellies-...   \n",
       "10  http://www.flipkart.com/ladela-bellies/p/itmeh...   \n",
       "\n",
       "                                         product_name  \\\n",
       "2                                          aw bellies   \n",
       "4               sicons all purpose arnica dog shampoo   \n",
       "5   eternal gandhi super series crystal paper weig...   \n",
       "8   dilli bazaaar bellies, corporate casuals, casuals   \n",
       "10                                     ladela bellies   \n",
       "\n",
       "                                product_category_tree               pid  \\\n",
       "2   [footwear, womens footwear, ballerinas, aw bel...  SHOEH4GRSUBJGZXE   \n",
       "4   [pet supplies, grooming, skin  coat care, sham...  PSOEH3ZYDMSYARJ5   \n",
       "5   [eternal gandhi super series crystal paper wei...  PWTEB7H2E4KCYUE3   \n",
       "8   [footwear, womens footwear, ballerinas, dilli ...  SHOEH3DZBFR88SCK   \n",
       "10  [footwear, womens footwear, ballerinas, ladela...  SHOEH4KM2W3Z6EH5   \n",
       "\n",
       "    retail_price  discounted_price  \\\n",
       "2          999.0             499.0   \n",
       "4          220.0             210.0   \n",
       "5          430.0             430.0   \n",
       "8          699.0             349.0   \n",
       "10        1724.0             950.0   \n",
       "\n",
       "                                                image  \\\n",
       "2   [\"http://img5a.flixcart.com/image/shoe/7/z/z/r...   \n",
       "4   [\"http://img5a.flixcart.com/image/pet-shampoo/...   \n",
       "5   [\"http://img5a.flixcart.com/image/paper-weight...   \n",
       "8   [\"http://img6a.flixcart.com/image/shoe/b/p/n/p...   \n",
       "10  [\"http://img5a.flixcart.com/image/shoe/s/g/m/b...   \n",
       "\n",
       "    is_FK_Advantage_product  \\\n",
       "2                     False   \n",
       "4                     False   \n",
       "5                     False   \n",
       "8                     False   \n",
       "10                    False   \n",
       "\n",
       "                                          description       product_rating  \\\n",
       "2   key features of aw bellies sandals wedges heel...  No rating available   \n",
       "4   specifications of sicons all purpose arnica do...  No rating available   \n",
       "5   key features of eternal gandhi super series cr...  No rating available   \n",
       "8   key features of dilli bazaaar bellies, corpora...  No rating available   \n",
       "10  key features of ladela bellies brand: ladela c...                    5   \n",
       "\n",
       "         overall_rating           brand  \\\n",
       "2   No rating available              aw   \n",
       "4   No rating available          sicons   \n",
       "5   No rating available  eternal gandhi   \n",
       "8   No rating available   dilli bazaaar   \n",
       "10                    5          ladela   \n",
       "\n",
       "                               product_specifications  \\\n",
       "2   [{'key': 'Ideal For', 'value': 'Women'}, {'key...   \n",
       "4   [{'key': 'Pet Type', 'value': 'Dog'}, {'key': ...   \n",
       "5   [{'key': 'Model Name', 'value': 'Gandhi Paper ...   \n",
       "8   [{'key': 'Occasion', 'value': 'Ethnic, Casual,...   \n",
       "10  [{'key': 'Occasion', 'value': 'Casual'}, {'key...   \n",
       "\n",
       "                             formatted_specifications  \n",
       "2   ideal for: women, occasion: casual, color: red...  \n",
       "4   pet type: dog, brand: sicons, quantity: 500 ml...  \n",
       "5   model name: gandhi paper weight mark v, weight...  \n",
       "8   occasion: ethnic, casual, party, formal, ideal...  \n",
       "10  occasion: casual, ideal for: women, heel heigh...  "
      ]
     },
     "execution_count": 29,
     "metadata": {},
     "output_type": "execute_result"
    }
   ],
   "source": [
    "df.head()"
   ]
  },
  {
   "cell_type": "markdown",
   "metadata": {},
   "source": [
    "### Transform Numbers"
   ]
  },
  {
   "cell_type": "code",
   "execution_count": null,
   "metadata": {},
   "outputs": [
    {
     "data": {
      "text/html": [
       "<div>\n",
       "<style scoped>\n",
       "    .dataframe tbody tr th:only-of-type {\n",
       "        vertical-align: middle;\n",
       "    }\n",
       "\n",
       "    .dataframe tbody tr th {\n",
       "        vertical-align: top;\n",
       "    }\n",
       "\n",
       "    .dataframe thead th {\n",
       "        text-align: right;\n",
       "    }\n",
       "</style>\n",
       "<table border=\"1\" class=\"dataframe\">\n",
       "  <thead>\n",
       "    <tr style=\"text-align: right;\">\n",
       "      <th></th>\n",
       "      <th>uniq_id</th>\n",
       "      <th>crawl_timestamp</th>\n",
       "      <th>product_url</th>\n",
       "      <th>product_name</th>\n",
       "      <th>product_category_tree</th>\n",
       "      <th>pid</th>\n",
       "      <th>retail_price</th>\n",
       "      <th>discounted_price</th>\n",
       "      <th>image</th>\n",
       "      <th>is_FK_Advantage_product</th>\n",
       "      <th>description</th>\n",
       "      <th>product_rating</th>\n",
       "      <th>overall_rating</th>\n",
       "      <th>brand</th>\n",
       "      <th>product_specifications</th>\n",
       "      <th>formatted_specifications</th>\n",
       "    </tr>\n",
       "  </thead>\n",
       "  <tbody>\n",
       "    <tr>\n",
       "      <th>2</th>\n",
       "      <td>f449ec65dcbc041b6ae5e6a32717d01b</td>\n",
       "      <td>2016-03-25 22:59:23 +0000</td>\n",
       "      <td>http://www.flipkart.com/aw-bellies/p/itmeh4grg...</td>\n",
       "      <td>aw bellies</td>\n",
       "      <td>[footwear, womens footwear, ballerinas, aw bel...</td>\n",
       "      <td>SHOEH4GRSUBJGZXE</td>\n",
       "      <td>999.0</td>\n",
       "      <td>499.0</td>\n",
       "      <td>[\"http://img5a.flixcart.com/image/shoe/7/z/z/r...</td>\n",
       "      <td>False</td>\n",
       "      <td>key features of aw bellies sandals wedges heel...</td>\n",
       "      <td>No rating available</td>\n",
       "      <td>No rating available</td>\n",
       "      <td>aw</td>\n",
       "      <td>[{'key': 'Ideal For', 'value': 'Women'}, {'key...</td>\n",
       "      <td>ideal for: women, occasion: casual, color: red...</td>\n",
       "    </tr>\n",
       "  </tbody>\n",
       "</table>\n",
       "</div>"
      ],
      "text/plain": [
       "                            uniq_id            crawl_timestamp  \\\n",
       "2  f449ec65dcbc041b6ae5e6a32717d01b  2016-03-25 22:59:23 +0000   \n",
       "\n",
       "                                         product_url product_name  \\\n",
       "2  http://www.flipkart.com/aw-bellies/p/itmeh4grg...   aw bellies   \n",
       "\n",
       "                               product_category_tree               pid  \\\n",
       "2  [footwear, womens footwear, ballerinas, aw bel...  SHOEH4GRSUBJGZXE   \n",
       "\n",
       "   retail_price  discounted_price  \\\n",
       "2         999.0             499.0   \n",
       "\n",
       "                                               image  is_FK_Advantage_product  \\\n",
       "2  [\"http://img5a.flixcart.com/image/shoe/7/z/z/r...                    False   \n",
       "\n",
       "                                         description       product_rating  \\\n",
       "2  key features of aw bellies sandals wedges heel...  No rating available   \n",
       "\n",
       "        overall_rating brand  \\\n",
       "2  No rating available    aw   \n",
       "\n",
       "                              product_specifications  \\\n",
       "2  [{'key': 'Ideal For', 'value': 'Women'}, {'key...   \n",
       "\n",
       "                            formatted_specifications  \n",
       "2  ideal for: women, occasion: casual, color: red...  "
      ]
     },
     "execution_count": 32,
     "metadata": {},
     "output_type": "execute_result"
    }
   ],
   "source": [
    "df.head(1)"
   ]
  },
  {
   "cell_type": "code",
   "execution_count": null,
   "metadata": {},
   "outputs": [],
   "source": [
    "numeric_cols = [\"retail_price\", \"discounted_price\", \"product_rating\", \"overall_rating\"]"
   ]
  },
  {
   "cell_type": "code",
   "execution_count": null,
   "metadata": {},
   "outputs": [],
   "source": [
    "for col in numeric_cols:\n",
    "    if col in df.columns:\n",
    "        df[col] = pd.to_numeric(df[col], errors=\"coerce\").fillna(0)"
   ]
  },
  {
   "cell_type": "code",
   "execution_count": null,
   "metadata": {},
   "outputs": [
    {
     "data": {
      "text/html": [
       "<div>\n",
       "<style scoped>\n",
       "    .dataframe tbody tr th:only-of-type {\n",
       "        vertical-align: middle;\n",
       "    }\n",
       "\n",
       "    .dataframe tbody tr th {\n",
       "        vertical-align: top;\n",
       "    }\n",
       "\n",
       "    .dataframe thead th {\n",
       "        text-align: right;\n",
       "    }\n",
       "</style>\n",
       "<table border=\"1\" class=\"dataframe\">\n",
       "  <thead>\n",
       "    <tr style=\"text-align: right;\">\n",
       "      <th></th>\n",
       "      <th>uniq_id</th>\n",
       "      <th>crawl_timestamp</th>\n",
       "      <th>product_url</th>\n",
       "      <th>product_name</th>\n",
       "      <th>product_category_tree</th>\n",
       "      <th>pid</th>\n",
       "      <th>retail_price</th>\n",
       "      <th>discounted_price</th>\n",
       "      <th>image</th>\n",
       "      <th>is_FK_Advantage_product</th>\n",
       "      <th>description</th>\n",
       "      <th>product_rating</th>\n",
       "      <th>overall_rating</th>\n",
       "      <th>brand</th>\n",
       "      <th>product_specifications</th>\n",
       "      <th>formatted_specifications</th>\n",
       "    </tr>\n",
       "  </thead>\n",
       "  <tbody>\n",
       "    <tr>\n",
       "      <th>2</th>\n",
       "      <td>f449ec65dcbc041b6ae5e6a32717d01b</td>\n",
       "      <td>2016-03-25 22:59:23 +0000</td>\n",
       "      <td>http://www.flipkart.com/aw-bellies/p/itmeh4grg...</td>\n",
       "      <td>aw bellies</td>\n",
       "      <td>[footwear, womens footwear, ballerinas, aw bel...</td>\n",
       "      <td>SHOEH4GRSUBJGZXE</td>\n",
       "      <td>999.0</td>\n",
       "      <td>499.0</td>\n",
       "      <td>[\"http://img5a.flixcart.com/image/shoe/7/z/z/r...</td>\n",
       "      <td>False</td>\n",
       "      <td>key features of aw bellies sandals wedges heel...</td>\n",
       "      <td>0.0</td>\n",
       "      <td>0.0</td>\n",
       "      <td>aw</td>\n",
       "      <td>[{'key': 'Ideal For', 'value': 'Women'}, {'key...</td>\n",
       "      <td>ideal for: women, occasion: casual, color: red...</td>\n",
       "    </tr>\n",
       "    <tr>\n",
       "      <th>4</th>\n",
       "      <td>bc940ea42ee6bef5ac7cea3fb5cfbee7</td>\n",
       "      <td>2016-03-25 22:59:23 +0000</td>\n",
       "      <td>http://www.flipkart.com/sicons-all-purpose-arn...</td>\n",
       "      <td>sicons all purpose arnica dog shampoo</td>\n",
       "      <td>[pet supplies, grooming, skin  coat care, sham...</td>\n",
       "      <td>PSOEH3ZYDMSYARJ5</td>\n",
       "      <td>220.0</td>\n",
       "      <td>210.0</td>\n",
       "      <td>[\"http://img5a.flixcart.com/image/pet-shampoo/...</td>\n",
       "      <td>False</td>\n",
       "      <td>specifications of sicons all purpose arnica do...</td>\n",
       "      <td>0.0</td>\n",
       "      <td>0.0</td>\n",
       "      <td>sicons</td>\n",
       "      <td>[{'key': 'Pet Type', 'value': 'Dog'}, {'key': ...</td>\n",
       "      <td>pet type: dog, brand: sicons, quantity: 500 ml...</td>\n",
       "    </tr>\n",
       "    <tr>\n",
       "      <th>5</th>\n",
       "      <td>c2a17313954882c1dba461863e98adf2</td>\n",
       "      <td>2016-03-25 22:59:23 +0000</td>\n",
       "      <td>http://www.flipkart.com/eternal-gandhi-super-s...</td>\n",
       "      <td>eternal gandhi super series crystal paper weig...</td>\n",
       "      <td>[eternal gandhi super series crystal paper wei...</td>\n",
       "      <td>PWTEB7H2E4KCYUE3</td>\n",
       "      <td>430.0</td>\n",
       "      <td>430.0</td>\n",
       "      <td>[\"http://img5a.flixcart.com/image/paper-weight...</td>\n",
       "      <td>False</td>\n",
       "      <td>key features of eternal gandhi super series cr...</td>\n",
       "      <td>0.0</td>\n",
       "      <td>0.0</td>\n",
       "      <td>eternal gandhi</td>\n",
       "      <td>[{'key': 'Model Name', 'value': 'Gandhi Paper ...</td>\n",
       "      <td>model name: gandhi paper weight mark v, weight...</td>\n",
       "    </tr>\n",
       "    <tr>\n",
       "      <th>8</th>\n",
       "      <td>29c8d290caa451f97b1c32df64477a2c</td>\n",
       "      <td>2016-03-25 22:59:23 +0000</td>\n",
       "      <td>http://www.flipkart.com/dilli-bazaaar-bellies-...</td>\n",
       "      <td>dilli bazaaar bellies, corporate casuals, casuals</td>\n",
       "      <td>[footwear, womens footwear, ballerinas, dilli ...</td>\n",
       "      <td>SHOEH3DZBFR88SCK</td>\n",
       "      <td>699.0</td>\n",
       "      <td>349.0</td>\n",
       "      <td>[\"http://img6a.flixcart.com/image/shoe/b/p/n/p...</td>\n",
       "      <td>False</td>\n",
       "      <td>key features of dilli bazaaar bellies, corpora...</td>\n",
       "      <td>0.0</td>\n",
       "      <td>0.0</td>\n",
       "      <td>dilli bazaaar</td>\n",
       "      <td>[{'key': 'Occasion', 'value': 'Ethnic, Casual,...</td>\n",
       "      <td>occasion: ethnic, casual, party, formal, ideal...</td>\n",
       "    </tr>\n",
       "    <tr>\n",
       "      <th>10</th>\n",
       "      <td>e54bc0a7c3429da2ebef0b30331fe3d2</td>\n",
       "      <td>2016-03-25 22:59:23 +0000</td>\n",
       "      <td>http://www.flipkart.com/ladela-bellies/p/itmeh...</td>\n",
       "      <td>ladela bellies</td>\n",
       "      <td>[footwear, womens footwear, ballerinas, ladela...</td>\n",
       "      <td>SHOEH4KM2W3Z6EH5</td>\n",
       "      <td>1724.0</td>\n",
       "      <td>950.0</td>\n",
       "      <td>[\"http://img5a.flixcart.com/image/shoe/s/g/m/b...</td>\n",
       "      <td>False</td>\n",
       "      <td>key features of ladela bellies brand: ladela c...</td>\n",
       "      <td>5.0</td>\n",
       "      <td>5.0</td>\n",
       "      <td>ladela</td>\n",
       "      <td>[{'key': 'Occasion', 'value': 'Casual'}, {'key...</td>\n",
       "      <td>occasion: casual, ideal for: women, heel heigh...</td>\n",
       "    </tr>\n",
       "  </tbody>\n",
       "</table>\n",
       "</div>"
      ],
      "text/plain": [
       "                             uniq_id            crawl_timestamp  \\\n",
       "2   f449ec65dcbc041b6ae5e6a32717d01b  2016-03-25 22:59:23 +0000   \n",
       "4   bc940ea42ee6bef5ac7cea3fb5cfbee7  2016-03-25 22:59:23 +0000   \n",
       "5   c2a17313954882c1dba461863e98adf2  2016-03-25 22:59:23 +0000   \n",
       "8   29c8d290caa451f97b1c32df64477a2c  2016-03-25 22:59:23 +0000   \n",
       "10  e54bc0a7c3429da2ebef0b30331fe3d2  2016-03-25 22:59:23 +0000   \n",
       "\n",
       "                                          product_url  \\\n",
       "2   http://www.flipkart.com/aw-bellies/p/itmeh4grg...   \n",
       "4   http://www.flipkart.com/sicons-all-purpose-arn...   \n",
       "5   http://www.flipkart.com/eternal-gandhi-super-s...   \n",
       "8   http://www.flipkart.com/dilli-bazaaar-bellies-...   \n",
       "10  http://www.flipkart.com/ladela-bellies/p/itmeh...   \n",
       "\n",
       "                                         product_name  \\\n",
       "2                                          aw bellies   \n",
       "4               sicons all purpose arnica dog shampoo   \n",
       "5   eternal gandhi super series crystal paper weig...   \n",
       "8   dilli bazaaar bellies, corporate casuals, casuals   \n",
       "10                                     ladela bellies   \n",
       "\n",
       "                                product_category_tree               pid  \\\n",
       "2   [footwear, womens footwear, ballerinas, aw bel...  SHOEH4GRSUBJGZXE   \n",
       "4   [pet supplies, grooming, skin  coat care, sham...  PSOEH3ZYDMSYARJ5   \n",
       "5   [eternal gandhi super series crystal paper wei...  PWTEB7H2E4KCYUE3   \n",
       "8   [footwear, womens footwear, ballerinas, dilli ...  SHOEH3DZBFR88SCK   \n",
       "10  [footwear, womens footwear, ballerinas, ladela...  SHOEH4KM2W3Z6EH5   \n",
       "\n",
       "    retail_price  discounted_price  \\\n",
       "2          999.0             499.0   \n",
       "4          220.0             210.0   \n",
       "5          430.0             430.0   \n",
       "8          699.0             349.0   \n",
       "10        1724.0             950.0   \n",
       "\n",
       "                                                image  \\\n",
       "2   [\"http://img5a.flixcart.com/image/shoe/7/z/z/r...   \n",
       "4   [\"http://img5a.flixcart.com/image/pet-shampoo/...   \n",
       "5   [\"http://img5a.flixcart.com/image/paper-weight...   \n",
       "8   [\"http://img6a.flixcart.com/image/shoe/b/p/n/p...   \n",
       "10  [\"http://img5a.flixcart.com/image/shoe/s/g/m/b...   \n",
       "\n",
       "    is_FK_Advantage_product  \\\n",
       "2                     False   \n",
       "4                     False   \n",
       "5                     False   \n",
       "8                     False   \n",
       "10                    False   \n",
       "\n",
       "                                          description  product_rating  \\\n",
       "2   key features of aw bellies sandals wedges heel...             0.0   \n",
       "4   specifications of sicons all purpose arnica do...             0.0   \n",
       "5   key features of eternal gandhi super series cr...             0.0   \n",
       "8   key features of dilli bazaaar bellies, corpora...             0.0   \n",
       "10  key features of ladela bellies brand: ladela c...             5.0   \n",
       "\n",
       "    overall_rating           brand  \\\n",
       "2              0.0              aw   \n",
       "4              0.0          sicons   \n",
       "5              0.0  eternal gandhi   \n",
       "8              0.0   dilli bazaaar   \n",
       "10             5.0          ladela   \n",
       "\n",
       "                               product_specifications  \\\n",
       "2   [{'key': 'Ideal For', 'value': 'Women'}, {'key...   \n",
       "4   [{'key': 'Pet Type', 'value': 'Dog'}, {'key': ...   \n",
       "5   [{'key': 'Model Name', 'value': 'Gandhi Paper ...   \n",
       "8   [{'key': 'Occasion', 'value': 'Ethnic, Casual,...   \n",
       "10  [{'key': 'Occasion', 'value': 'Casual'}, {'key...   \n",
       "\n",
       "                             formatted_specifications  \n",
       "2   ideal for: women, occasion: casual, color: red...  \n",
       "4   pet type: dog, brand: sicons, quantity: 500 ml...  \n",
       "5   model name: gandhi paper weight mark v, weight...  \n",
       "8   occasion: ethnic, casual, party, formal, ideal...  \n",
       "10  occasion: casual, ideal for: women, heel heigh...  "
      ]
     },
     "execution_count": 35,
     "metadata": {},
     "output_type": "execute_result"
    }
   ],
   "source": [
    "df.head()"
   ]
  },
  {
   "cell_type": "markdown",
   "metadata": {},
   "source": [
    "### Checking Description"
   ]
  },
  {
   "cell_type": "code",
   "execution_count": null,
   "metadata": {},
   "outputs": [
    {
     "data": {
      "text/plain": [
       "'specifications of sicons all purpose arnica dog shampoo (500 ml) general pet type dog brand sicons quantity 500 ml model number sh.df-14 type all purpose fragrance arnica form factor liquid in the box sales package shampoo sicons dog fashion arnica'"
      ]
     },
     "execution_count": 37,
     "metadata": {},
     "output_type": "execute_result"
    }
   ],
   "source": [
    "df[\"description\"][4]"
   ]
  },
  {
   "cell_type": "markdown",
   "metadata": {},
   "source": [
    "### Download Csv"
   ]
  },
  {
   "cell_type": "code",
   "execution_count": null,
   "metadata": {},
   "outputs": [],
   "source": [
    "df.to_csv(\"../dataset/product.csv\", index=False)"
   ]
  },
  {
   "cell_type": "code",
   "execution_count": null,
   "metadata": {},
   "outputs": [],
   "source": []
  }
 ],
 "metadata": {
  "kernelspec": {
   "display_name": "venv",
   "language": "python",
   "name": "python3"
  },
  "language_info": {
   "codemirror_mode": {
    "name": "ipython",
    "version": 3
   },
   "file_extension": ".py",
   "mimetype": "text/x-python",
   "name": "python",
   "nbconvert_exporter": "python",
   "pygments_lexer": "ipython3",
   "version": "3.13.2"
  }
 },
 "nbformat": 4,
 "nbformat_minor": 2
}
