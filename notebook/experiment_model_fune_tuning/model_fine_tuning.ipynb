{
  "cells": [
    {
      "cell_type": "code",
      "execution_count": 1,
      "metadata": {
        "id": "AGldok4s32YF"
      },
      "outputs": [],
      "source": [
        "!pip install -q -U bitsandbytes transformers peft accelerate datasets scipy einops evaluate trl rouge_score"
      ]
    },
    {
      "cell_type": "code",
      "execution_count": 2,
      "metadata": {
        "id": "14nE9nts3FuC"
      },
      "outputs": [],
      "source": [
        "from datasets import load_dataset\n",
        "import transformers\n",
        "from transformers import (\n",
        "    AutoModelForSeq2SeqLM,\n",
        "    AutoTokenizer,\n",
        "    BitsAndBytesConfig,\n",
        "    HfArgumentParser,\n",
        "    AutoTokenizer,\n",
        "    TrainingArguments,\n",
        "    Trainer,\n",
        "    GenerationConfig,\n",
        "    EarlyStoppingCallback,\n",
        "    DataCollatorForSeq2Seq\n",
        ")\n",
        "from tqdm import tqdm\n",
        "from trl import SFTTrainer\n",
        "import torch\n",
        "import time\n",
        "import pandas as pd\n",
        "import numpy as np\n",
        "import os\n",
        "from functools import partial\n",
        "from peft import LoraConfig, get_peft_model, prepare_model_for_kbit_training\n",
        "import random\n",
        "import evaluate"
      ]
    },
    {
      "cell_type": "code",
      "execution_count": 3,
      "metadata": {
        "id": "HgfBof9BkZnW"
      },
      "outputs": [],
      "source": [
        "os.environ['WANDB_DISABLED']=\"true\""
      ]
    },
    {
      "cell_type": "code",
      "execution_count": 4,
      "metadata": {
        "colab": {
          "base_uri": "https://localhost:8080/"
        },
        "id": "KzKHY2xwkc9z",
        "outputId": "b4ccb248-41e9-4d90-e48f-22b46c5903af"
      },
      "outputs": [
        {
          "name": "stderr",
          "output_type": "stream",
          "text": [
            "/usr/local/lib/python3.11/dist-packages/huggingface_hub/utils/_auth.py:94: UserWarning: \n",
            "The secret `HF_TOKEN` does not exist in your Colab secrets.\n",
            "To authenticate with the Hugging Face Hub, create a token in your settings tab (https://huggingface.co/settings/tokens), set it as secret in your Google Colab and restart your session.\n",
            "You will be able to reuse this secret in all of your notebooks.\n",
            "Please note that authentication is recommended but still optional to access public models or datasets.\n",
            "  warnings.warn(\n"
          ]
        }
      ],
      "source": [
        "dataset = load_dataset(\"microsoft/ms_marco\", \"v2.1\", split=\"train\")"
      ]
    },
    {
      "cell_type": "code",
      "execution_count": 5,
      "metadata": {
        "id": "modKzS0X8qSl"
      },
      "outputs": [],
      "source": [
        "dataset = dataset.select(range(200))"
      ]
    },
    {
      "cell_type": "code",
      "execution_count": 6,
      "metadata": {
        "id": "bp62gO9h8il7"
      },
      "outputs": [],
      "source": [
        "def clean_text(text):\n",
        "    return text.strip().lower()"
      ]
    },
    {
      "cell_type": "code",
      "execution_count": 7,
      "metadata": {
        "id": "j3sXTc8Q8fh4"
      },
      "outputs": [],
      "source": [
        "dataset = dataset.map(lambda example: {\n",
        "    'query': clean_text(example['query']),\n",
        "    'answers': [clean_text(ans) for ans in example['answers']]\n",
        "}, remove_columns=dataset.column_names)"
      ]
    },
    {
      "cell_type": "code",
      "execution_count": 8,
      "metadata": {
        "id": "Jq0J_vx4_bmc"
      },
      "outputs": [],
      "source": [
        "def compute_query_difficulty(example):\n",
        "  query = example['query']\n",
        "\n",
        "  word_count = len(query.split())\n",
        "  punctuation_count = sum(1 for c in query if c in [',', '.', '?', '!', ':', ';'])\n",
        "\n",
        "  length_score = len(query)\n",
        "\n",
        "  difficulty = word_count + punctuation_count + (length_score / 50)\n",
        "\n",
        "  example['difficulty'] = difficulty\n",
        "\n",
        "  return example"
      ]
    },
    {
      "cell_type": "code",
      "execution_count": 9,
      "metadata": {
        "id": "57z5t-ns_sGR"
      },
      "outputs": [],
      "source": [
        "dataset = dataset.map(compute_query_difficulty)"
      ]
    },
    {
      "cell_type": "code",
      "execution_count": 10,
      "metadata": {
        "id": "gqQwthHE875r"
      },
      "outputs": [],
      "source": [
        "dataset = dataset.sort(\"difficulty\")"
      ]
    },
    {
      "cell_type": "code",
      "execution_count": 11,
      "metadata": {
        "id": "Xlub6V1flEHr"
      },
      "outputs": [],
      "source": [
        "train_dataset = dataset.select(range(80))"
      ]
    },
    {
      "cell_type": "code",
      "execution_count": 12,
      "metadata": {
        "id": "4wGjOVsPq_sQ"
      },
      "outputs": [],
      "source": [
        "eval_dataset = dataset.select(range(80, 100))"
      ]
    },
    {
      "cell_type": "code",
      "execution_count": 13,
      "metadata": {
        "id": "8daiEVoklMbR"
      },
      "outputs": [],
      "source": [
        "compute_dtype = getattr(torch, \"float16\")\n",
        "\n",
        "bnb_config = BitsAndBytesConfig(\n",
        "        load_in_4bit=True,\n",
        "        bnb_4bit_quant_type='nf4',\n",
        "        bnb_4bit_compute_dtype=compute_dtype,\n",
        "        bnb_4bit_use_double_quant=False,\n",
        "    )\n"
      ]
    },
    {
      "cell_type": "code",
      "execution_count": 14,
      "metadata": {
        "id": "WvuCMhahlYh6"
      },
      "outputs": [],
      "source": [
        "model_name='google/flan-t5-large'\n",
        "\n",
        "device_map = {\"\": 0}"
      ]
    },
    {
      "cell_type": "code",
      "execution_count": 15,
      "metadata": {
        "id": "f4nVIABHliYV"
      },
      "outputs": [],
      "source": [
        "original_model = AutoModelForSeq2SeqLM.from_pretrained(\n",
        "    model_name,\n",
        "    quantization_config=bnb_config,\n",
        "    trust_remote_code=True,\n",
        "  )"
      ]
    },
    {
      "cell_type": "code",
      "execution_count": 16,
      "metadata": {
        "colab": {
          "base_uri": "https://localhost:8080/"
        },
        "id": "vXufmFJ5lq8j",
        "outputId": "4f80066c-eef7-4164-b9e8-d86612629268"
      },
      "outputs": [
        {
          "name": "stderr",
          "output_type": "stream",
          "text": [
            "You are using the default legacy behaviour of the <class 'transformers.models.t5.tokenization_t5.T5Tokenizer'>. This is expected, and simply means that the `legacy` (previous) behavior will be used so nothing changes for you. If you want to use the new behaviour, set `legacy=False`. This should only be set if you understand what it means, and thoroughly read the reason why this was added as explained in https://github.com/huggingface/transformers/pull/24565\n"
          ]
        }
      ],
      "source": [
        "tokenizer = AutoTokenizer.from_pretrained(\n",
        "    model_name,\n",
        "    trust_remote_code=True,\n",
        "    padding_side=\"left\",\n",
        "    add_eos_token=True,\n",
        "    add_bos_token=True,\n",
        "    use_fast=False\n",
        "  )\n",
        "\n",
        "tokenizer.pad_token = tokenizer.eos_token"
      ]
    },
    {
      "cell_type": "code",
      "execution_count": 17,
      "metadata": {
        "id": "nA7ujGTsqPp2"
      },
      "outputs": [],
      "source": [
        "def gen(model, prompt, length):\n",
        "    device = torch.device(\"cuda\" if torch.cuda.is_available() else \"cpu\")\n",
        "    model = model.to(device)\n",
        "\n",
        "    inputs = tokenizer(prompt, return_tensors=\"pt\").to(device)\n",
        "    outputs = model.generate(**inputs, max_length=length, do_sample=True, top_p=0.95, temperature=0.8)\n",
        "\n",
        "    return [tokenizer.decode(outputs[0], skip_special_tokens=True)]"
      ]
    },
    {
      "cell_type": "code",
      "execution_count": 18,
      "metadata": {
        "colab": {
          "base_uri": "https://localhost:8080/"
        },
        "id": "-dB54XO0lyEo",
        "outputId": "a019cba8-7a9b-460a-88b6-ecd88b7d7a0a"
      },
      "outputs": [
        {
          "name": "stdout",
          "output_type": "stream",
          "text": [
            "---------------------------------------------------------------------------------------------------\n",
            "INPUT PROMPT:\n",
            "Instruct: Refine this user search query.\n",
            "define traumatic\n",
            "---------------------------------------------------------------------------------------------------\n",
            "BASELINE HUMAN ANSWER:\n",
            "it is extremely upsetting or something that causes great harm or damage to the mind or body.\n",
            "\n",
            "---------------------------------------------------------------------------------------------------\n",
            "MODEL GENERATION - ZERO SHOT:\n",
            "<pad> definition of traumatic\n",
            "CPU times: user 733 ms, sys: 200 ms, total: 933 ms\n",
            "Wall time: 1.82 s\n"
          ]
        }
      ],
      "source": [
        "%%time\n",
        "\n",
        "index = 2\n",
        "\n",
        "prompt = dataset[index]['query']\n",
        "summary = dataset[index]['answers'][0]\n",
        "\n",
        "formatted_prompt = f\"Instruct: Refine this user search query.\\n{prompt}\"\n",
        "\n",
        "res = gen(original_model,formatted_prompt,100,)\n",
        "\n",
        "output = res[0]\n",
        "\n",
        "dash_line = '-'.join('' for x in range(100))\n",
        "print(dash_line)\n",
        "print(f'INPUT PROMPT:\\n{formatted_prompt}')\n",
        "print(dash_line)\n",
        "print(f'BASELINE HUMAN ANSWER:\\n{summary}\\n')\n",
        "print(dash_line)\n",
        "print(f'MODEL GENERATION - ZERO SHOT:\\n{output}')"
      ]
    },
    {
      "cell_type": "code",
      "execution_count": 19,
      "metadata": {
        "id": "GLE210QVmiBO"
      },
      "outputs": [],
      "source": [
        "def create_prompt_formats(sample):\n",
        "    INTRO_BLURB = \"Below is an instruction that describes a task. Write a response that appropriately completes the request.\"\n",
        "\n",
        "    prompt_templates = [\n",
        "      \"### Instruct: Refine this user search query:\",\n",
        "      \"### Task: Improve the clarity of the following search query:\",\n",
        "      \"### Instruction: Fix the grammar and phrasing of this e-commerce search input:\",\n",
        "      \"### Command: Clean up this product search term:\",\n",
        "      \"### Request: Make this user query more natural and readable:\",\n",
        "      \"### Action: Rephrase this customer search for better understanding:\",\n",
        "    ]\n",
        "\n",
        "    instruction = random.choice(prompt_templates) + f\"\\n{sample['query'].strip()}\"\n",
        "    target = sample['answers'][0].strip()\n",
        "\n",
        "    return {\n",
        "        \"input\": f\"{INTRO_BLURB}\\n\\n{instruction}\",\n",
        "        \"target\": f\"{target}\"\n",
        "    }"
      ]
    },
    {
      "cell_type": "code",
      "execution_count": 20,
      "metadata": {
        "id": "IKCd0aCzm39F"
      },
      "outputs": [],
      "source": [
        "def get_max_length(model):\n",
        "    conf = model.config\n",
        "    max_length = None\n",
        "    for length_setting in [\"n_positions\", \"max_position_embeddings\", \"seq_length\"]:\n",
        "        max_length = getattr(model.config, length_setting, None)\n",
        "        if max_length:\n",
        "            print(f\"Found max lenth: {max_length}\")\n",
        "            break\n",
        "    if not max_length:\n",
        "        max_length = 1024\n",
        "        print(f\"Using default max length: {max_length}\")\n",
        "    return max_length"
      ]
    },
    {
      "cell_type": "code",
      "execution_count": 21,
      "metadata": {
        "id": "1E8d3NYVnLGl"
      },
      "outputs": [],
      "source": [
        "def preprocess_batch(batch, tokenizer, max_length):\n",
        "    model_inputs = tokenizer(\n",
        "        batch[\"input\"],\n",
        "        max_length=max_length,\n",
        "        truncation=True,\n",
        "        padding=\"max_length\",\n",
        "        return_tensors=\"pt\",\n",
        "        return_attention_mask=True\n",
        "    )\n",
        "\n",
        "    labels = tokenizer(\n",
        "        batch[\"target\"],\n",
        "        max_length=max_length,\n",
        "        truncation=True,\n",
        "        padding=\"max_length\",\n",
        "        return_tensors=\"pt\",\n",
        "    )\n",
        "\n",
        "    model_inputs[\"labels\"] = labels[\"input_ids\"]\n",
        "\n",
        "    return model_inputs"
      ]
    },
    {
      "cell_type": "code",
      "execution_count": 22,
      "metadata": {
        "id": "ZEumLAz8nO0T"
      },
      "outputs": [],
      "source": [
        "def preprocess_dataset(tokenizer: AutoTokenizer, max_length: int, dataset):\n",
        "    \"\"\"Format & tokenize it so it is ready for training\n",
        "    :param tokenizer (AutoTokenizer): Model Tokenizer\n",
        "    :param max_length (int): Maximum number of tokens to emit from tokenizer\n",
        "    \"\"\"\n",
        "\n",
        "    print(\"Preprocessing dataset...\")\n",
        "    dataset = dataset.map(create_prompt_formats)#, batched=True)\n",
        "\n",
        "    _preprocessing_function = partial(preprocess_batch, max_length=max_length, tokenizer=tokenizer)\n",
        "\n",
        "    dataset = dataset.map(\n",
        "        _preprocessing_function,\n",
        "        batched=True,\n",
        "    )\n",
        "\n",
        "    dataset = dataset.remove_columns(['answers', 'query', 'difficulty', \"input\", \"target\"])\n",
        "\n",
        "    return dataset"
      ]
    },
    {
      "cell_type": "code",
      "execution_count": 23,
      "metadata": {
        "colab": {
          "base_uri": "https://localhost:8080/"
        },
        "id": "2SGgrkp6ngWM",
        "outputId": "f8725042-cb8c-4a09-9501-91c189ba2e38"
      },
      "outputs": [
        {
          "name": "stdout",
          "output_type": "stream",
          "text": [
            "Found max lenth: 512\n"
          ]
        }
      ],
      "source": [
        "max_length = get_max_length(original_model)"
      ]
    },
    {
      "cell_type": "code",
      "execution_count": 24,
      "metadata": {
        "colab": {
          "base_uri": "https://localhost:8080/"
        },
        "id": "jFFZe_Iyr2nk",
        "outputId": "41e46057-8a1c-4f44-d85b-360f2fceba82"
      },
      "outputs": [
        {
          "name": "stdout",
          "output_type": "stream",
          "text": [
            "Preprocessing dataset...\n"
          ]
        }
      ],
      "source": [
        "train_dataset = preprocess_dataset(tokenizer, max_length, train_dataset)"
      ]
    },
    {
      "cell_type": "code",
      "execution_count": 25,
      "metadata": {
        "colab": {
          "base_uri": "https://localhost:8080/"
        },
        "id": "Rzyk1zVT9ag5",
        "outputId": "3d668492-1f2f-4920-c4cf-7ad189ba515b"
      },
      "outputs": [
        {
          "name": "stdout",
          "output_type": "stream",
          "text": [
            "Preprocessing dataset...\n"
          ]
        }
      ],
      "source": [
        "eval_dataset = preprocess_dataset(tokenizer, max_length, eval_dataset)"
      ]
    },
    {
      "cell_type": "code",
      "execution_count": 26,
      "metadata": {
        "colab": {
          "base_uri": "https://localhost:8080/"
        },
        "id": "W_yGZXLoZMBt",
        "outputId": "7208fd80-0b93-4a6f-a616-181fbc7a646c"
      },
      "outputs": [
        {
          "data": {
            "text/plain": [
              "Dataset({\n",
              "    features: ['input_ids', 'attention_mask', 'labels'],\n",
              "    num_rows: 80\n",
              "})"
            ]
          },
          "execution_count": 26,
          "metadata": {},
          "output_type": "execute_result"
        }
      ],
      "source": [
        "train_dataset"
      ]
    },
    {
      "cell_type": "code",
      "execution_count": 27,
      "metadata": {
        "colab": {
          "base_uri": "https://localhost:8080/"
        },
        "id": "pJxKArRAaLwg",
        "outputId": "e729811d-ee6a-47b0-8fbd-2d8335b1caf6"
      },
      "outputs": [
        {
          "data": {
            "text/plain": [
              "Dataset({\n",
              "    features: ['input_ids', 'attention_mask', 'labels'],\n",
              "    num_rows: 20\n",
              "})"
            ]
          },
          "execution_count": 27,
          "metadata": {},
          "output_type": "execute_result"
        }
      ],
      "source": [
        "eval_dataset"
      ]
    },
    {
      "cell_type": "code",
      "execution_count": 28,
      "metadata": {
        "colab": {
          "base_uri": "https://localhost:8080/"
        },
        "id": "8n7lj-VhdypR",
        "outputId": "598d5d5f-bf9f-4916-df47-8488801fca5e"
      },
      "outputs": [
        {
          "name": "stdout",
          "output_type": "stream",
          "text": [
            "Below is an instruction that describes a task. Write a response that appropriately completes the request. ### Instruction: Fix the grammar and phrasing of this e-commerce search input: depona ab\n"
          ]
        }
      ],
      "source": [
        "print(tokenizer.decode(train_dataset[0]['input_ids'], skip_special_tokens=True))"
      ]
    },
    {
      "cell_type": "code",
      "execution_count": 29,
      "metadata": {
        "id": "VrZ3SgVbnuld"
      },
      "outputs": [],
      "source": [
        "original_model = prepare_model_for_kbit_training(original_model)"
      ]
    },
    {
      "cell_type": "code",
      "execution_count": 30,
      "metadata": {
        "id": "Ha3YJBr2nzhZ"
      },
      "outputs": [],
      "source": [
        "config = LoraConfig(\n",
        "    r=32,\n",
        "    lora_alpha=32,\n",
        "    target_modules=[\"q\", \"v\"],\n",
        "    bias=\"none\",\n",
        "    lora_dropout=0.05,\n",
        "    task_type=\"SEQ_2_SEQ_LM\",\n",
        ")"
      ]
    },
    {
      "cell_type": "code",
      "execution_count": 31,
      "metadata": {
        "id": "kgsWJG-wn0-g"
      },
      "outputs": [],
      "source": [
        "original_model.gradient_checkpointing_enable()"
      ]
    },
    {
      "cell_type": "code",
      "execution_count": 32,
      "metadata": {
        "id": "-2rCe-fcn2t9"
      },
      "outputs": [],
      "source": [
        "peft_model = get_peft_model(original_model, config)"
      ]
    },
    {
      "cell_type": "code",
      "execution_count": 33,
      "metadata": {
        "id": "CUSn2jeKs6Nt"
      },
      "outputs": [],
      "source": [
        "def print_number_of_trainable_model_parameters(model):\n",
        "    trainable_params = 0\n",
        "    all_params = 0\n",
        "    for _, param in model.named_parameters():\n",
        "        all_params += param.numel()\n",
        "        if param.requires_grad:\n",
        "            trainable_params += param.numel()\n",
        "    print(f\"Trainable params: {trainable_params}\")\n",
        "    print(f\"All params: {all_params}\")\n",
        "    print(f\"Trainable%: {100 * trainable_params / all_params:.2f}%\")\n"
      ]
    },
    {
      "cell_type": "code",
      "execution_count": 34,
      "metadata": {
        "colab": {
          "base_uri": "https://localhost:8080/"
        },
        "id": "5qcVP6KWn4XB",
        "outputId": "957e2bf7-af2b-4db2-8296-6fe342df37e6"
      },
      "outputs": [
        {
          "name": "stdout",
          "output_type": "stream",
          "text": [
            "Trainable params: 9437184\n",
            "All params: 503180288\n",
            "Trainable%: 1.88%\n"
          ]
        }
      ],
      "source": [
        "print_number_of_trainable_model_parameters(peft_model)"
      ]
    },
    {
      "cell_type": "code",
      "execution_count": 35,
      "metadata": {
        "id": "KlpDnd6on7zr"
      },
      "outputs": [],
      "source": [
        "output_dir = f'./peft-flan-t5-training-{str(int(time.time()))}'"
      ]
    },
    {
      "cell_type": "code",
      "execution_count": 36,
      "metadata": {
        "id": "Xmgc-vPAoBFI"
      },
      "outputs": [],
      "source": [
        "peft_model.config.use_cache = False"
      ]
    },
    {
      "cell_type": "code",
      "execution_count": 37,
      "metadata": {
        "id": "pW53TY0NtL2e"
      },
      "outputs": [],
      "source": [
        "peft_training_args = TrainingArguments(\n",
        "    output_dir = output_dir,\n",
        "    warmup_steps=1,\n",
        "    per_device_train_batch_size=4,\n",
        "    gradient_accumulation_steps=4,\n",
        "    num_train_epochs=2,\n",
        "    max_steps=5,\n",
        "    learning_rate=2e-4,\n",
        "    optim=\"paged_adamw_8bit\",\n",
        "    logging_steps=5,\n",
        "    logging_dir=\"./logs\",\n",
        "    save_strategy=\"steps\",\n",
        "    save_steps=5,\n",
        "    eval_strategy=\"steps\",\n",
        "    eval_steps=5,\n",
        "    do_eval=True,\n",
        "    gradient_checkpointing=True,\n",
        "    report_to=\"none\",\n",
        "    overwrite_output_dir = 'True',\n",
        "    group_by_length=True,\n",
        "    load_best_model_at_end=True,\n",
        "    dataloader_pin_memory=True,\n",
        "    dataloader_num_workers=2,\n",
        "    fp16=True\n",
        ")"
      ]
    },
    {
      "cell_type": "code",
      "execution_count": 38,
      "metadata": {
        "id": "vM2D8tOOB9Mi"
      },
      "outputs": [],
      "source": [
        "early_stopping = EarlyStoppingCallback(\n",
        "    early_stopping_patience=5,\n",
        "    early_stopping_threshold=0.0\n",
        "    )"
      ]
    },
    {
      "cell_type": "code",
      "execution_count": 39,
      "metadata": {
        "id": "-K2w5c2jJjQS"
      },
      "outputs": [],
      "source": [
        "data_collator=DataCollatorForSeq2Seq(\n",
        "    tokenizer,\n",
        "    model=peft_model,\n",
        "    padding=\"longest\",\n",
        "    pad_to_multiple_of=8\n",
        ")"
      ]
    },
    {
      "cell_type": "code",
      "execution_count": 40,
      "metadata": {
        "colab": {
          "base_uri": "https://localhost:8080/"
        },
        "id": "W0ouUtRDRME1",
        "outputId": "38fe1772-1bc0-434f-a60d-a3390dda9dfd"
      },
      "outputs": [
        {
          "name": "stdout",
          "output_type": "stream",
          "text": [
            "Sample processed batch:\n",
            "Input shapes: torch.Size([2, 512])\n",
            "Label shapes: torch.Size([2, 512])\n"
          ]
        }
      ],
      "source": [
        "print(\"Sample processed batch:\")\n",
        "sample_batch = data_collator([train_dataset[0], train_dataset[1]])\n",
        "print(\"Input shapes:\", sample_batch[\"input_ids\"].shape)\n",
        "print(\"Label shapes:\", sample_batch[\"labels\"].shape)"
      ]
    },
    {
      "cell_type": "code",
      "execution_count": 41,
      "metadata": {
        "id": "IiyRR7AgULUS"
      },
      "outputs": [],
      "source": [
        "bleu = evaluate.load(\"bleu\")\n",
        "rouge = evaluate.load(\"rouge\")"
      ]
    },
    {
      "cell_type": "code",
      "execution_count": 42,
      "metadata": {
        "id": "d_sI3ZXIUPFh"
      },
      "outputs": [],
      "source": [
        "def compute_metrics(eval_preds):\n",
        "    preds, labels = eval_preds\n",
        "\n",
        "    print(type(preds), type(preds[0]))\n",
        "    print(preds[0])\n",
        "\n",
        "    decoded_preds = tokenizer.batch_decode(preds, skip_special_tokens=True)\n",
        "    decoded_labels = tokenizer.batch_decode(labels, skip_special_tokens=True)\n",
        "\n",
        "    bleu_result = bleu.compute(predictions=decoded_preds, references=[[l] for l in decoded_labels])\n",
        "\n",
        "    rouge_result = rouge.compute(predictions=decoded_preds, references=decoded_labels)\n",
        "\n",
        "    return {\n",
        "        \"bleu\": bleu_result[\"bleu\"],\n",
        "        \"rouge1\": rouge_result[\"rouge1\"],\n",
        "        \"rouge2\": rouge_result[\"rouge2\"],\n",
        "        \"rougeL\": rouge_result[\"rougeL\"]\n",
        "    }\n"
      ]
    },
    {
      "cell_type": "code",
      "execution_count": 43,
      "metadata": {
        "colab": {
          "base_uri": "https://localhost:8080/"
        },
        "id": "40VFaPIeoCbo",
        "outputId": "83d40981-c710-4cce-e7dc-d076fef1ed72"
      },
      "outputs": [
        {
          "name": "stderr",
          "output_type": "stream",
          "text": [
            "No label_names provided for model class `PeftModelForSeq2SeqLM`. Since `PeftModel` hides base models input arguments, if label_names is not given, label_names can't be set automatically within `Trainer`. Note that empty label_names list will be used instead.\n"
          ]
        }
      ],
      "source": [
        "peft_trainer = transformers.Trainer(\n",
        "    model=peft_model,\n",
        "    train_dataset=train_dataset,\n",
        "    eval_dataset=eval_dataset,\n",
        "    args=peft_training_args,\n",
        "    data_collator=data_collator,\n",
        "    # callbacks=[early_stopping],\n",
        "    # compute_metrics=compute_metrics\n",
        ")"
      ]
    },
    {
      "cell_type": "code",
      "execution_count": 44,
      "metadata": {
        "colab": {
          "base_uri": "https://localhost:8080/",
          "height": 143
        },
        "id": "Z4ZjqAAUoEO5",
        "outputId": "aa0d7816-ff34-4e2c-c37f-1fa2a98b28d5"
      },
      "outputs": [
        {
          "data": {
            "text/html": [
              "\n",
              "    <div>\n",
              "      \n",
              "      <progress value='5' max='5' style='width:300px; height:20px; vertical-align: middle;'></progress>\n",
              "      [5/5 00:43, Epoch 1/1]\n",
              "    </div>\n",
              "    <table border=\"1\" class=\"dataframe\">\n",
              "  <thead>\n",
              " <tr style=\"text-align: left;\">\n",
              "      <th>Step</th>\n",
              "      <th>Training Loss</th>\n",
              "      <th>Validation Loss</th>\n",
              "    </tr>\n",
              "  </thead>\n",
              "  <tbody>\n",
              "    <tr>\n",
              "      <td>5</td>\n",
              "      <td>0.000000</td>\n",
              "      <td>nan</td>\n",
              "    </tr>\n",
              "  </tbody>\n",
              "</table><p>"
            ],
            "text/plain": [
              "<IPython.core.display.HTML object>"
            ]
          },
          "metadata": {},
          "output_type": "display_data"
        },
        {
          "data": {
            "text/plain": [
              "TrainOutput(global_step=5, training_loss=0.0, metrics={'train_runtime': 54.0214, 'train_samples_per_second': 1.481, 'train_steps_per_second': 0.093, 'total_flos': 186700718407680.0, 'train_loss': 0.0, 'epoch': 1.0})"
            ]
          },
          "execution_count": 44,
          "metadata": {},
          "output_type": "execute_result"
        }
      ],
      "source": [
        "peft_trainer.train()"
      ]
    },
    {
      "cell_type": "code",
      "execution_count": 44,
      "metadata": {
        "id": "3Eb5kJfEa7XC"
      },
      "outputs": [],
      "source": []
    }
  ],
  "metadata": {
    "colab": {
      "provenance": [],
      "toc_visible": true
    },
    "kernelspec": {
      "display_name": "venv",
      "language": "python",
      "name": "python3"
    },
    "language_info": {
      "name": "python",
      "version": "3.13.2"
    }
  },
  "nbformat": 4,
  "nbformat_minor": 0
}
